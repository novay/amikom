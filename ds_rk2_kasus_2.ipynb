{
  "nbformat": 4,
  "nbformat_minor": 0,
  "metadata": {
    "colab": {
      "provenance": [],
      "authorship_tag": "ABX9TyNK3bROuL/KV600xXP+b815",
      "include_colab_link": true
    },
    "kernelspec": {
      "name": "python3",
      "display_name": "Python 3"
    },
    "language_info": {
      "name": "python"
    }
  },
  "cells": [
    {
      "cell_type": "markdown",
      "metadata": {
        "id": "view-in-github",
        "colab_type": "text"
      },
      "source": [
        "<a href=\"https://colab.research.google.com/github/novay/amikom/blob/main/ds_rk2_kasus_2.ipynb\" target=\"_parent\"><img src=\"https://colab.research.google.com/assets/colab-badge.svg\" alt=\"Open In Colab\"/></a>"
      ]
    },
    {
      "cell_type": "markdown",
      "source": [
        "**1. PERSIAPAN DATA (SESUAI SOAL)**<br/>\n",
        "Dimana diketahui, <br/>\n",
        "`y_true` : nilai aktual<br/>\n",
        "`y_pred` : nilai prediksi"
      ],
      "metadata": {
        "id": "9hAnFI9UAWV1"
      }
    },
    {
      "cell_type": "code",
      "execution_count": 2,
      "metadata": {
        "id": "R7q61-4idWiA"
      },
      "outputs": [],
      "source": [
        "y_true = [\"Apel\", \"Tomat\", \"Delima\", \"Delima\", \"Delima\", \"Tomat\", \"Tomat\", \"Delima\", \"Delima\", \"Apel\", \"Tomat\", \"Apel\", \"Apel\", \"Apel\", \"Tomat\"]\n",
        "y_pred = [\"Apel\", \"Apel\", \"Delima\", \"Delima\", \"Apel\", \"Tomat\", \"Tomat\", \"Delima\", \"Apel\", \"Apel\", \"Tomat\", \"Apel\", \"Apel\", \"Apel\", \"Delima\"]"
      ]
    },
    {
      "cell_type": "markdown",
      "source": [
        "**2. VISUALISASIKAN DALAM BENTUK MATRIX**"
      ],
      "metadata": {
        "id": "C8A5GqJ5AtAl"
      }
    },
    {
      "cell_type": "code",
      "source": [
        "from sklearn.metrics import confusion_matrix\n",
        "import matplotlib.pyplot as plt\n",
        "import seaborn as sns\n",
        "\n",
        "# Bentuk Confusion Matrix dari data yang ada\n",
        "conv = confusion_matrix(y_true, y_pred)\n",
        "\n",
        "# Tampilkan dalam bentuk plot heatmap berdasarkan nilai conv\n",
        "plt.figure(figsize=(10,6))\n",
        "fx = sns.heatmap(conv, annot=True, fmt=\".0f\", cmap=\"GnBu\")\n",
        "fx.set_title('Confusion Matrix \\n');\n",
        "fx.set_xlabel('\\n Nilai Prediksi \\n')\n",
        "fx.set_ylabel('Nilai Aktual \\n');\n",
        "fx.xaxis.set_ticklabels(['Apel','Delima','Tomat'])\n",
        "fx.yaxis.set_ticklabels(['Apel','Delima','Tomat'])\n",
        "plt.show()"
      ],
      "metadata": {
        "colab": {
          "base_uri": "https://localhost:8080/",
          "height": 442
        },
        "id": "2MpQytPcp0Ct",
        "outputId": "86f8acb1-2aaa-40e1-dee6-c4a419edc800"
      },
      "execution_count": 3,
      "outputs": [
        {
          "output_type": "display_data",
          "data": {
            "text/plain": [
              "<Figure size 720x432 with 2 Axes>"
            ],
            "image/png": "[encoded data removed]"
          },
          "metadata": {
            "needs_background": "light"
          }
        }
      ]
    },
    {
      "cell_type": "markdown",
      "source": [
        "**3. TEMUKAN NILAI AKURASI, PRESISI, RECALL & F1-SCORE**"
      ],
      "metadata": {
        "id": "QHWlK3MLAR57"
      }
    },
    {
      "cell_type": "code",
      "source": [
        "from sklearn.metrics import classification_report\n",
        "\n",
        "print(classification_report(y_true, y_pred))"
      ],
      "metadata": {
        "colab": {
          "base_uri": "https://localhost:8080/"
        },
        "id": "Iy2ikVnp8sKM",
        "outputId": "44dab119-99de-4396-820a-a9a16f20cdf5"
      },
      "execution_count": null,
      "outputs": [
        {
          "output_type": "stream",
          "name": "stdout",
          "text": [
            "              precision    recall  f1-score   support\n",
            "\n",
            "        Apel       0.62      1.00      0.77         5\n",
            "      Delima       0.75      0.60      0.67         5\n",
            "       Tomat       1.00      0.60      0.75         5\n",
            "\n",
            "    accuracy                           0.73        15\n",
            "   macro avg       0.79      0.73      0.73        15\n",
            "weighted avg       0.79      0.73      0.73        15\n",
            "\n"
          ]
        }
      ]
    },
    {
      "cell_type": "markdown",
      "source": [
        "**4. MENCARI NILAI AKURASI & F1-SCORE (UNTUK MEMASTIKAN MENGGUNAKAN METHOD LAIN)**"
      ],
      "metadata": {
        "id": "IY1vmfoKANVd"
      }
    },
    {
      "cell_type": "code",
      "source": [
        "from sklearn.metrics import accuracy_score, f1_score\n",
        "\n",
        "accuracy = accuracy_score(y_true, y_pred)\n",
        "f1 = f1_score(y_true, y_pred, average=None)\n",
        "\n",
        "print(\"Nilai Akurasi\", accuracy)\n",
        "print(\"Nilai F1-Score\", f1)"
      ],
      "metadata": {
        "colab": {
          "base_uri": "https://localhost:8080/"
        },
        "id": "TmRQ2Y12qw7L",
        "outputId": "6de89579-42fe-4bcc-9b7e-824d7a5de0c2"
      },
      "execution_count": null,
      "outputs": [
        {
          "output_type": "stream",
          "name": "stdout",
          "text": [
            "Nilai Akurasi 0.7333333333333333\n",
            "Nilai F1-Score [0.76923077 0.66666667 0.75      ]\n"
          ]
        }
      ]
    },
    {
      "cell_type": "markdown",
      "source": [
        "**5. MENCARI NILAI SPECIFICITY & SENSITIFITY**\n",
        "\n",
        "Perlu diingat! Dalam klasifikasi binary, *“sensitivity”* adalah kelas positif dari *recall*; \n",
        "Sementara *“specificity”* adalah kelas negatif dari *recall*<br/>\n",
        "Referensi: [https://scikit-learn.org/stable/modules/generated/sklearn.metrics.classification_report.html](https://scikit-learn.org/stable/modules/generated/sklearn.metrics.classification_report.html)"
      ],
      "metadata": {
        "id": "RSZkl9pW_01R"
      }
    },
    {
      "cell_type": "code",
      "source": [
        "from sklearn.metrics import precision_recall_fscore_support\n",
        "import numpy as np\n",
        "import pandas as pd\n",
        "\n",
        "res = []\n",
        "for l in ['Apel','Delima','Tomat']:\n",
        "    prec, recall, _, _ = precision_recall_fscore_support(np.array(y_true)==l, np.array(y_pred)==l, pos_label=True, average=None)\n",
        "    res.append([l, recall[0], recall[1]])\n",
        "\n",
        "pd.DataFrame(res, columns = ['Kelas', 'Specificity', 'Sensitivity'])"
      ],
      "metadata": {
        "colab": {
          "base_uri": "https://localhost:8080/",
          "height": 143
        },
        "id": "jkijYZEfveQP",
        "outputId": "6bd51fc5-d05f-468c-fe83-08a8f368b97a"
      },
      "execution_count": null,
      "outputs": [
        {
          "output_type": "execute_result",
          "data": {
            "text/plain": [
              "    Kelas  Specificity  Sensitivity\n",
              "0    Apel          0.7          1.0\n",
              "1  Delima          0.9          0.6\n",
              "2   Tomat          1.0          0.6"
            ],
            "text/html": [
              "\n",
              "  <div id=\"df-41ca1f36-87e3-4180-9dc3-5cb29d3a787f\">\n",
              "    <div class=\"colab-df-container\">\n",
              "      <div>\n",
              "<style scoped>\n",
              "    .dataframe tbody tr th:only-of-type {\n",
              "        vertical-align: middle;\n",
              "    }\n",
              "\n",
              "    .dataframe tbody tr th {\n",
              "        vertical-align: top;\n",
              "    }\n",
              "\n",
              "    .dataframe thead th {\n",
              "        text-align: right;\n",
              "    }\n",
              "</style>\n",
              "<table border=\"1\" class=\"dataframe\">\n",
              "  <thead>\n",
              "    <tr style=\"text-align: right;\">\n",
              "      <th></th>\n",
              "      <th>Kelas</th>\n",
              "      <th>Specificity</th>\n",
              "      <th>Sensitivity</th>\n",
              "    </tr>\n",
              "  </thead>\n",
              "  <tbody>\n",
              "    <tr>\n",
              "      <th>0</th>\n",
              "      <td>Apel</td>\n",
              "      <td>0.7</td>\n",
              "      <td>1.0</td>\n",
              "    </tr>\n",
              "    <tr>\n",
              "      <th>1</th>\n",
              "      <td>Delima</td>\n",
              "      <td>0.9</td>\n",
              "      <td>0.6</td>\n",
              "    </tr>\n",
              "    <tr>\n",
              "      <th>2</th>\n",
              "      <td>Tomat</td>\n",
              "      <td>1.0</td>\n",
              "      <td>0.6</td>\n",
              "    </tr>\n",
              "  </tbody>\n",
              "</table>\n",
              "</div>\n",
              "      <button class=\"colab-df-convert\" onclick=\"convertToInteractive('df-41ca1f36-87e3-4180-9dc3-5cb29d3a787f')\"\n",
              "              title=\"Convert this dataframe to an interactive table.\"\n",
              "              style=\"display:none;\">\n",
              "        \n",
              "  <svg xmlns=\"http://www.w3.org/2000/svg\" height=\"24px\"viewBox=\"0 0 24 24\"\n",
              "       width=\"24px\">\n",
              "    <path d=\"M0 0h24v24H0V0z\" fill=\"none\"/>\n",
              "    <path d=\"M18.56 5.44l.94 2.06.94-2.06 2.06-.94-2.06-.94-.94-2.06-.94 2.06-2.06.94zm-11 1L8.5 8.5l.94-2.06 2.06-.94-2.06-.94L8.5 2.5l-.94 2.06-2.06.94zm10 10l.94 2.06.94-2.06 2.06-.94-2.06-.94-.94-2.06-.94 2.06-2.06.94z\"/><path d=\"M17.41 7.96l-1.37-1.37c-.4-.4-.92-.59-1.43-.59-.52 0-1.04.2-1.43.59L10.3 9.45l-7.72 7.72c-.78.78-.78 2.05 0 2.83L4 21.41c.39.39.9.59 1.41.59.51 0 1.02-.2 1.41-.59l7.78-7.78 2.81-2.81c.8-.78.8-2.07 0-2.86zM5.41 20L4 18.59l7.72-7.72 1.47 1.35L5.41 20z\"/>\n",
              "  </svg>\n",
              "      </button>\n",
              "      \n",
              "  <style>\n",
              "    .colab-df-container {\n",
              "      display:flex;\n",
              "      flex-wrap:wrap;\n",
              "      gap: 12px;\n",
              "    }\n",
              "\n",
              "    .colab-df-convert {\n",
              "      background-color: #E8F0FE;\n",
              "      border: none;\n",
              "      border-radius: 50%;\n",
              "      cursor: pointer;\n",
              "      display: none;\n",
              "      fill: #1967D2;\n",
              "      height: 32px;\n",
              "      padding: 0 0 0 0;\n",
              "      width: 32px;\n",
              "    }\n",
              "\n",
              "    .colab-df-convert:hover {\n",
              "      background-color: #E2EBFA;\n",
              "      box-shadow: 0px 1px 2px rgba(60, 64, 67, 0.3), 0px 1px 3px 1px rgba(60, 64, 67, 0.15);\n",
              "      fill: #174EA6;\n",
              "    }\n",
              "\n",
              "    [theme=dark] .colab-df-convert {\n",
              "      background-color: #3B4455;\n",
              "      fill: #D2E3FC;\n",
              "    }\n",
              "\n",
              "    [theme=dark] .colab-df-convert:hover {\n",
              "      background-color: #434B5C;\n",
              "      box-shadow: 0px 1px 3px 1px rgba(0, 0, 0, 0.15);\n",
              "      filter: drop-shadow(0px 1px 2px rgba(0, 0, 0, 0.3));\n",
              "      fill: #FFFFFF;\n",
              "    }\n",
              "  </style>\n",
              "\n",
              "      <script>\n",
              "        const buttonEl =\n",
              "          document.querySelector('#df-41ca1f36-87e3-4180-9dc3-5cb29d3a787f button.colab-df-convert');\n",
              "        buttonEl.style.display =\n",
              "          google.colab.kernel.accessAllowed ? 'block' : 'none';\n",
              "\n",
              "        async function convertToInteractive(key) {\n",
              "          const element = document.querySelector('#df-41ca1f36-87e3-4180-9dc3-5cb29d3a787f');\n",
              "          const dataTable =\n",
              "            await google.colab.kernel.invokeFunction('convertToInteractive',\n",
              "                                                     [key], {});\n",
              "          if (!dataTable) return;\n",
              "\n",
              "          const docLinkHtml = 'Like what you see? Visit the ' +\n",
              "            '<a target=\"_blank\" href=https://colab.research.google.com/notebooks/data_table.ipynb>data table notebook</a>'\n",
              "            + ' to learn more about interactive tables.';\n",
              "          element.innerHTML = '';\n",
              "          dataTable['output_type'] = 'display_data';\n",
              "          await google.colab.output.renderOutput(dataTable, element);\n",
              "          const docLink = document.createElement('div');\n",
              "          docLink.innerHTML = docLinkHtml;\n",
              "          element.appendChild(docLink);\n",
              "        }\n",
              "      </script>\n",
              "    </div>\n",
              "  </div>\n",
              "  "
            ]
          },
          "metadata": {},
          "execution_count": 21
        }
      ]
    }
  ]
}