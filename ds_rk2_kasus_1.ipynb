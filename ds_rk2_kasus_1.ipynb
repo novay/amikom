{
  "nbformat": 4,
  "nbformat_minor": 0,
  "metadata": {
    "colab": {
      "provenance": [],
      "authorship_tag": "ABX9TyNXC3mRBvzaAjnz8rLSqg/F",
      "include_colab_link": true
    },
    "kernelspec": {
      "name": "python3",
      "display_name": "Python 3"
    },
    "language_info": {
      "name": "python"
    }
  },
  "cells": [
    {
      "cell_type": "markdown",
      "metadata": {
        "id": "view-in-github",
        "colab_type": "text"
      },
      "source": [
        "<a href=\"https://colab.research.google.com/github/novay/amikom/blob/main/ds_rk2_kasus_1.ipynb\" target=\"_parent\"><img src=\"https://colab.research.google.com/assets/colab-badge.svg\" alt=\"Open In Colab\"/></a>"
      ]
    },
    {
      "cell_type": "code",
      "execution_count": 80,
      "metadata": {
        "colab": {
          "base_uri": "https://localhost:8080/"
        },
        "id": "_o4jS1YMenCY",
        "outputId": "d5ab78e1-634e-41d1-aaec-0e299afe0575"
      },
      "outputs": [
        {
          "output_type": "stream",
          "name": "stdout",
          "text": [
            "PERHITUNGAN SKLEARN\n",
            "===================\n",
            "Akurasi 0.7\n",
            "Presisi 0.8\n",
            "Recall 0.6666666666666666\n",
            "Specificity:  0.75\n",
            "F1-Score 0.7272727272727272\n"
          ]
        }
      ],
      "source": [
        "# PERHITUNGAN SKLEARN\n",
        "from sklearn.metrics import confusion_matrix, accuracy_score, recall_score, precision_score, f1_score\n",
        "\n",
        "y_true = [1,0,1,1,0,1,1,0,0,1]\n",
        "y_pred = [1,1,1,0,0,1,1,0,0,0]\n",
        "\n",
        "matrix = confusion_matrix(y_true, y_pred)\n",
        "accuracy = accuracy_score(y_true, y_pred)\n",
        "recall = recall_score(y_true, y_pred)\n",
        "precision = precision_score(y_true, y_pred)\n",
        "f1 = f1_score(y_true, y_pred)\n",
        "\n",
        "TN, FP, FN, TP = confusion_matrix(y_true, y_pred).ravel()\n",
        "specificity = TN / (TN+FP)\n",
        "\n",
        "print(\"PERHITUNGAN SKLEARN\")\n",
        "print(\"===================\")\n",
        "print(\"Akurasi\", accuracy)\n",
        "print(\"Presisi\", precision)\n",
        "print(\"Recall\", recall)\n",
        "print(\"Specificity: \", specificity)\n",
        "print(\"F1-Score\", f1)"
      ]
    },
    {
      "cell_type": "code",
      "source": [
        "# PERHITUNGAN MANUAL\n",
        "akurasi = (TP+TN)/(TP+TN+FP+FN)\n",
        "presisi = (TP)/(TP+FP)\n",
        "recall = (TP)/(TP+FN)\n",
        "specificity = (TN)/(TN+FP)\n",
        "f1 = 2 * (recall*presisi) / (recall+presisi)\n",
        "\n",
        "print(\"PERHITUNGAN MANUAL\")\n",
        "print(\"==================\")\n",
        "print(\"Akurasi: \", akurasi)\n",
        "print(\"Presisi: \", presisi)\n",
        "print(\"Recall: \", recall)\n",
        "print(\"Specificity: \", specificity)\n",
        "print(\"F1-Score: \", f1)"
      ],
      "metadata": {
        "colab": {
          "base_uri": "https://localhost:8080/"
        },
        "id": "7DIC85oQW2rN",
        "outputId": "fc247a9a-2096-466d-f4bd-87f2f3824950"
      },
      "execution_count": 81,
      "outputs": [
        {
          "output_type": "stream",
          "name": "stdout",
          "text": [
            "PERHITUNGAN MANUAL\n",
            "==================\n",
            "Akurasi:  0.7\n",
            "Presisi:  0.8\n",
            "Recall:  0.6666666666666666\n",
            "Specificity:  0.75\n",
            "F1-Score:  0.7272727272727272\n"
          ]
        }
      ]
    },
    {
      "cell_type": "code",
      "source": [],
      "metadata": {
        "id": "A3TyqJKlk3HX"
      },
      "execution_count": null,
      "outputs": []
    }
  ]
}