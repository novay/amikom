{
  "nbformat": 4,
  "nbformat_minor": 0,
  "metadata": {
    "colab": {
      "provenance": [],
      "toc_visible": true,
      "authorship_tag": "ABX9TyOTZFBWX919WLV6cRAqmdDM",
      "include_colab_link": true
    },
    "kernelspec": {
      "name": "python3",
      "display_name": "Python 3"
    },
    "language_info": {
      "name": "python"
    }
  },
  "cells": [
    {
      "cell_type": "markdown",
      "metadata": {
        "id": "view-in-github",
        "colab_type": "text"
      },
      "source": [
        "<a href=\"https://colab.research.google.com/github/novay/amikom/blob/main/ds_rk2_kasus_1.ipynb\" target=\"_parent\"><img src=\"https://colab.research.google.com/assets/colab-badge.svg\" alt=\"Open In Colab\"/></a>"
      ]
    },
    {
      "cell_type": "markdown",
      "source": [
        "### **1. Persiapan Data (Sesuai Kasus)**\n",
        "Dimana diketahui,<br/>\n",
        "`y_true` : nilai aktual; `y_pred` : nilai prediksi<br/>\n",
        "Dengan asumsi: <br/>\n",
        "`1` adalah **Mangga**; `0` adalah **Bukan Mangga**"
      ],
      "metadata": {
        "id": "Zvzmzcu-9tw1"
      }
    },
    {
      "cell_type": "code",
      "source": [
        "y_true = [1,0,1,1,0,1,1,0,0,1]\n",
        "y_pred = [1,1,1,0,0,1,1,0,0,0]"
      ],
      "metadata": {
        "id": "Ew4kTYiWCFNv"
      },
      "execution_count": 2,
      "outputs": []
    },
    {
      "cell_type": "markdown",
      "source": [
        "### **2. Pembuktian 1 (SKLEARN)**\n",
        "Menggunakan pustaka SKLEARN"
      ],
      "metadata": {
        "id": "Qtb0aVSrClBs"
      }
    },
    {
      "cell_type": "code",
      "execution_count": 3,
      "metadata": {
        "colab": {
          "base_uri": "https://localhost:8080/"
        },
        "id": "_o4jS1YMenCY",
        "outputId": "ca072955-5ec7-41ea-d389-417132e6d3b4"
      },
      "outputs": [
        {
          "output_type": "stream",
          "name": "stdout",
          "text": [
            "PERHITUNGAN SKLEARN\n",
            "===================\n",
            "Akurasi 0.7\n",
            "Presisi 0.8\n",
            "Recall 0.6666666666666666\n",
            "Specificity:  0.75\n",
            "F1-Score 0.7272727272727272\n"
          ]
        }
      ],
      "source": [
        "from sklearn.metrics import confusion_matrix, accuracy_score, recall_score, precision_score, f1_score\n",
        "\n",
        "matrix = confusion_matrix(y_true, y_pred)\n",
        "accuracy = accuracy_score(y_true, y_pred)\n",
        "recall = recall_score(y_true, y_pred)\n",
        "precision = precision_score(y_true, y_pred)\n",
        "f1 = f1_score(y_true, y_pred)\n",
        "\n",
        "TN, FP, FN, TP = confusion_matrix(y_true, y_pred).ravel()\n",
        "specificity = TN / (TN+FP)\n",
        "\n",
        "print(\"PERHITUNGAN SKLEARN\")\n",
        "print(\"===================\")\n",
        "print(\"Akurasi\", accuracy)\n",
        "print(\"Presisi\", precision)\n",
        "print(\"Recall\", recall)\n",
        "print(\"Specificity: \", specificity)\n",
        "print(\"F1-Score\", f1)"
      ]
    },
    {
      "cell_type": "markdown",
      "source": [
        "### **3. Pembuktian 2 (MANUAL)**\n",
        "Menggunakan perhitungan manual (sesuai rumus)"
      ],
      "metadata": {
        "id": "2WXqYTuqCuGw"
      }
    },
    {
      "cell_type": "code",
      "source": [
        "akurasi = (TP+TN)/(TP+TN+FP+FN)\n",
        "presisi = (TP)/(TP+FP)\n",
        "recall = (TP)/(TP+FN)\n",
        "specificity = (TN)/(TN+FP)\n",
        "f1 = 2 * (recall*presisi) / (recall+presisi)\n",
        "\n",
        "print(\"PERHITUNGAN MANUAL\")\n",
        "print(\"==================\")\n",
        "print(\"Akurasi: \", akurasi)\n",
        "print(\"Presisi: \", presisi)\n",
        "print(\"Recall: \", recall)\n",
        "print(\"Specificity: \", specificity)\n",
        "print(\"F1-Score: \", f1)"
      ],
      "metadata": {
        "colab": {
          "base_uri": "https://localhost:8080/"
        },
        "id": "7DIC85oQW2rN",
        "outputId": "afff1cf8-dc8d-4ec0-e148-edbb515bb2a6"
      },
      "execution_count": 4,
      "outputs": [
        {
          "output_type": "stream",
          "name": "stdout",
          "text": [
            "PERHITUNGAN MANUAL\n",
            "==================\n",
            "Akurasi:  0.7\n",
            "Presisi:  0.8\n",
            "Recall:  0.6666666666666666\n",
            "Specificity:  0.75\n",
            "F1-Score:  0.7272727272727272\n"
          ]
        }
      ]
    }
  ]
}