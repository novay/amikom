{
  "nbformat": 4,
  "nbformat_minor": 0,
  "metadata": {
    "colab": {
      "provenance": [],
      "authorship_tag": "ABX9TyPnp5Gh2kJOloJ8Mh3QJttC",
      "include_colab_link": true
    },
    "kernelspec": {
      "name": "python3",
      "display_name": "Python 3"
    },
    "language_info": {
      "name": "python"
    }
  },
  "cells": [
    {
      "cell_type": "markdown",
      "metadata": {
        "id": "view-in-github",
        "colab_type": "text"
      },
      "source": [
        "<a href=\"https://colab.research.google.com/github/novay/amikom/blob/main/ds_rk2_kasus_1.ipynb\" target=\"_parent\"><img src=\"https://colab.research.google.com/assets/colab-badge.svg\" alt=\"Open In Colab\"/></a>"
      ]
    },
    {
      "cell_type": "code",
      "execution_count": 75,
      "metadata": {
        "colab": {
          "base_uri": "https://localhost:8080/"
        },
        "id": "_o4jS1YMenCY",
        "outputId": "25f82b63-9319-40c8-c32d-81d42b06f156"
      },
      "outputs": [
        {
          "output_type": "stream",
          "name": "stdout",
          "text": [
            "PERHITUNGAN SKLEARN\n",
            "===================\n",
            "Akurasi 0.7\n",
            "Presisi 0.8\n",
            "Recall 0.6666666666666666\n",
            "Specificity:  0.75\n",
            "F1-Score 0.7272727272727272\n"
          ]
        }
      ],
      "source": [
        "# PERHITUNGAN SKLEARN\n",
        "from sklearn.metrics import confusion_matrix, accuracy_score, recall_score, precision_score, f1_score, classification_report\n",
        "\n",
        "y_true = [1,0,1,1,0,1,1,0,0,1]\n",
        "y_pred = [1,1,1,0,0,1,1,0,0,0]\n",
        "target_names = ['Mangga', 'Bukan Mangga']\n",
        "\n",
        "matrix = confusion_matrix(y_true, y_pred)\n",
        "accuracy = accuracy_score(y_true, y_pred)\n",
        "recall = recall_score(y_true, y_pred)\n",
        "precision = precision_score(y_true, y_pred)\n",
        "f1 = f1_score(y_true, y_pred)\n",
        "\n",
        "tn, fp, fn, tp = confusion_matrix(y_true, y_pred).ravel()\n",
        "specificity = tn / (tn+fp)\n",
        "\n",
        "print(\"PERHITUNGAN SKLEARN\")\n",
        "print(\"===================\")\n",
        "print(\"Akurasi\", accuracy)\n",
        "print(\"Presisi\", precision)\n",
        "print(\"Recall\", recall)\n",
        "print(\"Specificity: \", specificity)\n",
        "print(\"F1-Score\", f1)"
      ]
    },
    {
      "cell_type": "code",
      "source": [
        "# PERHITUNGAN MANUAL\n",
        "cm = confusion_matrix(y_pred, y_true)\n",
        "\n",
        "TP = cm[1][1]\n",
        "TN = cm[0][0]\n",
        "FP = cm[1][0]\n",
        "FN = cm[0][1]\n",
        "\n",
        "akurasi = (TP+TN)/(TP+TN+FP+FN)\n",
        "presisi = (TP)/(TP+FP)\n",
        "recall = (TP)/(TP+FN)\n",
        "specificity = (TN)/(TN+FP)\n",
        "f1 = 2 * (recall*presisi) / (recall+presisi)\n",
        "\n",
        "print(\"PERHITUNGAN MANUAL\")\n",
        "print(\"==================\")\n",
        "print(\"Akurasi: \", akurasi)\n",
        "print(\"Presisi: \", presisi)\n",
        "print(\"Recall: \", recall)\n",
        "print(\"Specificity: \", specificity)\n",
        "print(\"F1-Score: \", f1)"
      ],
      "metadata": {
        "colab": {
          "base_uri": "https://localhost:8080/"
        },
        "id": "7DIC85oQW2rN",
        "outputId": "2a915c8a-4f82-49b8-8e20-7f7d0db48ef3"
      },
      "execution_count": 76,
      "outputs": [
        {
          "output_type": "stream",
          "name": "stdout",
          "text": [
            "PERHITUNGAN MANUAL\n",
            "==================\n",
            "Akurasi:  0.7\n",
            "Presisi:  0.8\n",
            "Recall:  0.6666666666666666\n",
            "Specificity:  0.75\n",
            "F1-Score:  0.7272727272727272\n"
          ]
        }
      ]
    },
    {
      "cell_type": "code",
      "source": [],
      "metadata": {
        "id": "A3TyqJKlk3HX"
      },
      "execution_count": null,
      "outputs": []
    }
  ]
}