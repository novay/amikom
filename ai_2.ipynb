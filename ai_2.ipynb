{
  "nbformat": 4,
  "nbformat_minor": 0,
  "metadata": {
    "colab": {
      "provenance": [],
      "toc_visible": true,
      "authorship_tag": "ABX9TyMzCMKBpXxP1XKAJBmAzm1l",
      "include_colab_link": true
    },
    "kernelspec": {
      "name": "python3",
      "display_name": "Python 3"
    },
    "language_info": {
      "name": "python"
    }
  },
  "cells": [
    {
      "cell_type": "markdown",
      "metadata": {
        "id": "view-in-github",
        "colab_type": "text"
      },
      "source": [
        "<a href=\"https://colab.research.google.com/github/novay/amikom/blob/main/ai_2.ipynb\" target=\"_parent\"><img src=\"https://colab.research.google.com/assets/colab-badge.svg\" alt=\"Open In Colab\"/></a>"
      ]
    },
    {
      "cell_type": "markdown",
      "source": [
        "#### **RTM-3 - MEMBANGUN MODEL**<br/>\n",
        "![image.png](data:image/png;base64,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)\n",
        "\n",
        "### **Universitas Amikom Yogyakarta**<br/> **Program Studi PJJ S2 Teknik Informatika**<br/>\n",
        "\n",
        "Tugas Ke : **3 (Tiga)**<br/>\n",
        "Mata Kuliah : **Artificial Intelligence (AI)**<br/>\n",
        "Dosen Pengampu : **Dr. Moh. Fal Sadikin, S.T., M.Eng.**<br/>\n",
        "Tutor : **Windha Mega Pradnya D., M.Kom.**"
      ],
      "metadata": {
        "id": "_ESyUnf61pJk"
      }
    },
    {
      "cell_type": "markdown",
      "source": [
        "### **A. Overview**<br/>\n",
        "Laporan ini menjawab tugas yang diberikan pada perkuliahan yang dilakukan pada pertemuan ke-6 (Enam) bersama Ibu **Windha Mega Pradnya D., M.Kom.** yang dilaksanakan pada tanggal 31 Maret 2023."
      ],
      "metadata": {
        "id": "VVtF0ktb2ZDi"
      }
    },
    {
      "cell_type": "markdown",
      "source": [
        "#### **1. Informasi Mahasiswa**<br/>\n",
        "- Nama : **Novianto Rahmadi (22.55.2293)**\n",
        "- Konsentrasi : **Business Intelligence (BI)**"
      ],
      "metadata": {
        "id": "TET6SxB32d82"
      }
    },
    {
      "cell_type": "markdown",
      "source": [
        "#### **2. Uraian Tugas**<br/>\n",
        "- Gunakan dataset **Iris** (https://archive.ics.uci.edu/ml/datasets/iris)\n",
        "- Data dibagi dengan proporsi :\n",
        "  - Data Latih **(70%)**\n",
        "  - Data Uji **(30%)**\n",
        "- Terapkan **Semua Algoritma** yang ada dalam *hands-on* dan lakukan analisa perbandingan terhadap performa yang dihasilkan."
      ],
      "metadata": {
        "id": "0sd8Jcyo1RCH"
      }
    },
    {
      "cell_type": "markdown",
      "source": [
        "#### **3. Pustaka yang Digunakan**<br/>\n"
      ],
      "metadata": {
        "id": "LWvuIs8oDHi4"
      }
    },
    {
      "cell_type": "code",
      "source": [
        "import pandas as pd\n",
        "import numpy as np\n",
        "import matplotlib.pyplot as plt\n",
        "import seaborn as sns\n",
        "from sklearn.metrics import confusion_matrix, accuracy_score, classification_report\n",
        "\n",
        "\"\"\" Digunakan untuk mempercantik tabel pada dataframe \"\"\"\n",
        "from google.colab import data_table\n",
        "data_table.enable_dataframe_formatter()"
      ],
      "metadata": {
        "id": "muRNuXRADPNp"
      },
      "execution_count": 80,
      "outputs": []
    },
    {
      "cell_type": "markdown",
      "source": [
        "### **B. Classification Method**<br/>\n",
        "Berikut ini saya uraikan hasil dari percobaan menggunakan resources yang disediakan, lengkap dengan langkah (step-by-step) yang disederhanakan penjelasannya."
      ],
      "metadata": {
        "id": "5sA5FtoL3fKn"
      }
    },
    {
      "cell_type": "markdown",
      "source": [
        "#### **1. Pemilihan Dataset**<br/>\n",
        "Tahap awal yang harus kita lakukan dalam membuat model adalah menentukan dataset yang ingin kita olah. Dan untuk menjawab pertanyaan ini, saya akan menggunakan dataset yang disarankan yaitu **Dataset Bunga Iris** yang telah tersedia dalam pustaka **Sklearn**.\n",
        "\n",
        "**Referensi:**<br/>\n",
        "https://archive.ics.uci.edu/ml/datasets/iris"
      ],
      "metadata": {
        "id": "sauVRmof4Ce7"
      }
    },
    {
      "cell_type": "code",
      "source": [
        "from sklearn import datasets\n",
        "\n",
        "iris = datasets.load_iris()\n",
        "print(\"Banyak Data =\", len(iris.data))\n",
        "print(\"=================\")\n",
        "\n",
        "kelas = pd.DataFrame(iris.target_names)\n",
        "kelas = kelas.rename(columns={0: 'Kelas'}); kelas.index = kelas.index + 1\n",
        "display(kelas)\n",
        "\n",
        "atribut = pd.DataFrame(iris.feature_names)\n",
        "atribut = atribut.rename(columns={0: 'Atribut'}); atribut.index = atribut.index + 1\n",
        "display(atribut)"
      ],
      "metadata": {
        "colab": {
          "base_uri": "https://localhost:8080/",
          "height": 348
        },
        "id": "H3pSoZIn5vN-",
        "outputId": "5cbeb71c-41a0-45ce-ea10-8f1c4195442a"
      },
      "execution_count": 37,
      "outputs": [
        {
          "output_type": "stream",
          "name": "stdout",
          "text": [
            "Banyak Data = 150\n",
            "=================\n"
          ]
        },
        {
          "output_type": "display_data",
          "data": {
            "text/plain": [
              "        Kelas\n",
              "1      setosa\n",
              "2  versicolor\n",
              "3   virginica"
            ],
            "text/html": [
              "\n",
              "  <div id=\"df-9f68f7b6-0f44-4a19-b02c-5eecc7b79990\">\n",
              "    <div class=\"colab-df-container\">\n",
              "      <div>\n",
              "<style scoped>\n",
              "    .dataframe tbody tr th:only-of-type {\n",
              "        vertical-align: middle;\n",
              "    }\n",
              "\n",
              "    .dataframe tbody tr th {\n",
              "        vertical-align: top;\n",
              "    }\n",
              "\n",
              "    .dataframe thead th {\n",
              "        text-align: right;\n",
              "    }\n",
              "</style>\n",
              "<table border=\"1\" class=\"dataframe\">\n",
              "  <thead>\n",
              "    <tr style=\"text-align: right;\">\n",
              "      <th></th>\n",
              "      <th>Kelas</th>\n",
              "    </tr>\n",
              "  </thead>\n",
              "  <tbody>\n",
              "    <tr>\n",
              "      <th>1</th>\n",
              "      <td>setosa</td>\n",
              "    </tr>\n",
              "    <tr>\n",
              "      <th>2</th>\n",
              "      <td>versicolor</td>\n",
              "    </tr>\n",
              "    <tr>\n",
              "      <th>3</th>\n",
              "      <td>virginica</td>\n",
              "    </tr>\n",
              "  </tbody>\n",
              "</table>\n",
              "</div>\n",
              "      <button class=\"colab-df-convert\" onclick=\"convertToInteractive('df-9f68f7b6-0f44-4a19-b02c-5eecc7b79990')\"\n",
              "              title=\"Convert this dataframe to an interactive table.\"\n",
              "              style=\"display:none;\">\n",
              "        \n",
              "  <svg xmlns=\"http://www.w3.org/2000/svg\" height=\"24px\"viewBox=\"0 0 24 24\"\n",
              "       width=\"24px\">\n",
              "    <path d=\"M0 0h24v24H0V0z\" fill=\"none\"/>\n",
              "    <path d=\"M18.56 5.44l.94 2.06.94-2.06 2.06-.94-2.06-.94-.94-2.06-.94 2.06-2.06.94zm-11 1L8.5 8.5l.94-2.06 2.06-.94-2.06-.94L8.5 2.5l-.94 2.06-2.06.94zm10 10l.94 2.06.94-2.06 2.06-.94-2.06-.94-.94-2.06-.94 2.06-2.06.94z\"/><path d=\"M17.41 7.96l-1.37-1.37c-.4-.4-.92-.59-1.43-.59-.52 0-1.04.2-1.43.59L10.3 9.45l-7.72 7.72c-.78.78-.78 2.05 0 2.83L4 21.41c.39.39.9.59 1.41.59.51 0 1.02-.2 1.41-.59l7.78-7.78 2.81-2.81c.8-.78.8-2.07 0-2.86zM5.41 20L4 18.59l7.72-7.72 1.47 1.35L5.41 20z\"/>\n",
              "  </svg>\n",
              "      </button>\n",
              "      \n",
              "  <style>\n",
              "    .colab-df-container {\n",
              "      display:flex;\n",
              "      flex-wrap:wrap;\n",
              "      gap: 12px;\n",
              "    }\n",
              "\n",
              "    .colab-df-convert {\n",
              "      background-color: #E8F0FE;\n",
              "      border: none;\n",
              "      border-radius: 50%;\n",
              "      cursor: pointer;\n",
              "      display: none;\n",
              "      fill: #1967D2;\n",
              "      height: 32px;\n",
              "      padding: 0 0 0 0;\n",
              "      width: 32px;\n",
              "    }\n",
              "\n",
              "    .colab-df-convert:hover {\n",
              "      background-color: #E2EBFA;\n",
              "      box-shadow: 0px 1px 2px rgba(60, 64, 67, 0.3), 0px 1px 3px 1px rgba(60, 64, 67, 0.15);\n",
              "      fill: #174EA6;\n",
              "    }\n",
              "\n",
              "    [theme=dark] .colab-df-convert {\n",
              "      background-color: #3B4455;\n",
              "      fill: #D2E3FC;\n",
              "    }\n",
              "\n",
              "    [theme=dark] .colab-df-convert:hover {\n",
              "      background-color: #434B5C;\n",
              "      box-shadow: 0px 1px 3px 1px rgba(0, 0, 0, 0.15);\n",
              "      filter: drop-shadow(0px 1px 2px rgba(0, 0, 0, 0.3));\n",
              "      fill: #FFFFFF;\n",
              "    }\n",
              "  </style>\n",
              "\n",
              "      <script>\n",
              "        const buttonEl =\n",
              "          document.querySelector('#df-9f68f7b6-0f44-4a19-b02c-5eecc7b79990 button.colab-df-convert');\n",
              "        buttonEl.style.display =\n",
              "          google.colab.kernel.accessAllowed ? 'block' : 'none';\n",
              "\n",
              "        async function convertToInteractive(key) {\n",
              "          const element = document.querySelector('#df-9f68f7b6-0f44-4a19-b02c-5eecc7b79990');\n",
              "          const dataTable =\n",
              "            await google.colab.kernel.invokeFunction('convertToInteractive',\n",
              "                                                     [key], {});\n",
              "          if (!dataTable) return;\n",
              "\n",
              "          const docLinkHtml = 'Like what you see? Visit the ' +\n",
              "            '<a target=\"_blank\" href=https://colab.research.google.com/notebooks/data_table.ipynb>data table notebook</a>'\n",
              "            + ' to learn more about interactive tables.';\n",
              "          element.innerHTML = '';\n",
              "          dataTable['output_type'] = 'display_data';\n",
              "          await google.colab.output.renderOutput(dataTable, element);\n",
              "          const docLink = document.createElement('div');\n",
              "          docLink.innerHTML = docLinkHtml;\n",
              "          element.appendChild(docLink);\n",
              "        }\n",
              "      </script>\n",
              "    </div>\n",
              "  </div>\n",
              "  "
            ],
            "application/vnd.google.colaboratory.module+javascript": "\n      import \"https://ssl.gstatic.com/colaboratory/data_table/99dac6621f6ae8c4/data_table.js\";\n\n      window.createDataTable({\n        data: [[{\n            'v': 1,\n            'f': \"1\",\n        },\n\"setosa\"],\n [{\n            'v': 2,\n            'f': \"2\",\n        },\n\"versicolor\"],\n [{\n            'v': 3,\n            'f': \"3\",\n        },\n\"virginica\"]],\n        columns: [[\"number\", \"index\"], [\"string\", \"Kelas\"]],\n        columnOptions: [{\"width\": \"1px\", \"className\": \"index_column\"}],\n        rowsPerPage: 25,\n        helpUrl: \"https://colab.research.google.com/notebooks/data_table.ipynb\",\n        suppressOutputScrolling: true,\n        minimumWidth: undefined,\n      });\n    "
          },
          "metadata": {}
        },
        {
          "output_type": "display_data",
          "data": {
            "text/plain": [
              "             Atribut\n",
              "1  sepal length (cm)\n",
              "2   sepal width (cm)\n",
              "3  petal length (cm)\n",
              "4   petal width (cm)"
            ],
            "text/html": [
              "\n",
              "  <div id=\"df-17890b7e-58ed-4544-abd5-424273f2703f\">\n",
              "    <div class=\"colab-df-container\">\n",
              "      <div>\n",
              "<style scoped>\n",
              "    .dataframe tbody tr th:only-of-type {\n",
              "        vertical-align: middle;\n",
              "    }\n",
              "\n",
              "    .dataframe tbody tr th {\n",
              "        vertical-align: top;\n",
              "    }\n",
              "\n",
              "    .dataframe thead th {\n",
              "        text-align: right;\n",
              "    }\n",
              "</style>\n",
              "<table border=\"1\" class=\"dataframe\">\n",
              "  <thead>\n",
              "    <tr style=\"text-align: right;\">\n",
              "      <th></th>\n",
              "      <th>Atribut</th>\n",
              "    </tr>\n",
              "  </thead>\n",
              "  <tbody>\n",
              "    <tr>\n",
              "      <th>1</th>\n",
              "      <td>sepal length (cm)</td>\n",
              "    </tr>\n",
              "    <tr>\n",
              "      <th>2</th>\n",
              "      <td>sepal width (cm)</td>\n",
              "    </tr>\n",
              "    <tr>\n",
              "      <th>3</th>\n",
              "      <td>petal length (cm)</td>\n",
              "    </tr>\n",
              "    <tr>\n",
              "      <th>4</th>\n",
              "      <td>petal width (cm)</td>\n",
              "    </tr>\n",
              "  </tbody>\n",
              "</table>\n",
              "</div>\n",
              "      <button class=\"colab-df-convert\" onclick=\"convertToInteractive('df-17890b7e-58ed-4544-abd5-424273f2703f')\"\n",
              "              title=\"Convert this dataframe to an interactive table.\"\n",
              "              style=\"display:none;\">\n",
              "        \n",
              "  <svg xmlns=\"http://www.w3.org/2000/svg\" height=\"24px\"viewBox=\"0 0 24 24\"\n",
              "       width=\"24px\">\n",
              "    <path d=\"M0 0h24v24H0V0z\" fill=\"none\"/>\n",
              "    <path d=\"M18.56 5.44l.94 2.06.94-2.06 2.06-.94-2.06-.94-.94-2.06-.94 2.06-2.06.94zm-11 1L8.5 8.5l.94-2.06 2.06-.94-2.06-.94L8.5 2.5l-.94 2.06-2.06.94zm10 10l.94 2.06.94-2.06 2.06-.94-2.06-.94-.94-2.06-.94 2.06-2.06.94z\"/><path d=\"M17.41 7.96l-1.37-1.37c-.4-.4-.92-.59-1.43-.59-.52 0-1.04.2-1.43.59L10.3 9.45l-7.72 7.72c-.78.78-.78 2.05 0 2.83L4 21.41c.39.39.9.59 1.41.59.51 0 1.02-.2 1.41-.59l7.78-7.78 2.81-2.81c.8-.78.8-2.07 0-2.86zM5.41 20L4 18.59l7.72-7.72 1.47 1.35L5.41 20z\"/>\n",
              "  </svg>\n",
              "      </button>\n",
              "      \n",
              "  <style>\n",
              "    .colab-df-container {\n",
              "      display:flex;\n",
              "      flex-wrap:wrap;\n",
              "      gap: 12px;\n",
              "    }\n",
              "\n",
              "    .colab-df-convert {\n",
              "      background-color: #E8F0FE;\n",
              "      border: none;\n",
              "      border-radius: 50%;\n",
              "      cursor: pointer;\n",
              "      display: none;\n",
              "      fill: #1967D2;\n",
              "      height: 32px;\n",
              "      padding: 0 0 0 0;\n",
              "      width: 32px;\n",
              "    }\n",
              "\n",
              "    .colab-df-convert:hover {\n",
              "      background-color: #E2EBFA;\n",
              "      box-shadow: 0px 1px 2px rgba(60, 64, 67, 0.3), 0px 1px 3px 1px rgba(60, 64, 67, 0.15);\n",
              "      fill: #174EA6;\n",
              "    }\n",
              "\n",
              "    [theme=dark] .colab-df-convert {\n",
              "      background-color: #3B4455;\n",
              "      fill: #D2E3FC;\n",
              "    }\n",
              "\n",
              "    [theme=dark] .colab-df-convert:hover {\n",
              "      background-color: #434B5C;\n",
              "      box-shadow: 0px 1px 3px 1px rgba(0, 0, 0, 0.15);\n",
              "      filter: drop-shadow(0px 1px 2px rgba(0, 0, 0, 0.3));\n",
              "      fill: #FFFFFF;\n",
              "    }\n",
              "  </style>\n",
              "\n",
              "      <script>\n",
              "        const buttonEl =\n",
              "          document.querySelector('#df-17890b7e-58ed-4544-abd5-424273f2703f button.colab-df-convert');\n",
              "        buttonEl.style.display =\n",
              "          google.colab.kernel.accessAllowed ? 'block' : 'none';\n",
              "\n",
              "        async function convertToInteractive(key) {\n",
              "          const element = document.querySelector('#df-17890b7e-58ed-4544-abd5-424273f2703f');\n",
              "          const dataTable =\n",
              "            await google.colab.kernel.invokeFunction('convertToInteractive',\n",
              "                                                     [key], {});\n",
              "          if (!dataTable) return;\n",
              "\n",
              "          const docLinkHtml = 'Like what you see? Visit the ' +\n",
              "            '<a target=\"_blank\" href=https://colab.research.google.com/notebooks/data_table.ipynb>data table notebook</a>'\n",
              "            + ' to learn more about interactive tables.';\n",
              "          element.innerHTML = '';\n",
              "          dataTable['output_type'] = 'display_data';\n",
              "          await google.colab.output.renderOutput(dataTable, element);\n",
              "          const docLink = document.createElement('div');\n",
              "          docLink.innerHTML = docLinkHtml;\n",
              "          element.appendChild(docLink);\n",
              "        }\n",
              "      </script>\n",
              "    </div>\n",
              "  </div>\n",
              "  "
            ],
            "application/vnd.google.colaboratory.module+javascript": "\n      import \"https://ssl.gstatic.com/colaboratory/data_table/99dac6621f6ae8c4/data_table.js\";\n\n      window.createDataTable({\n        data: [[{\n            'v': 1,\n            'f': \"1\",\n        },\n\"sepal length (cm)\"],\n [{\n            'v': 2,\n            'f': \"2\",\n        },\n\"sepal width (cm)\"],\n [{\n            'v': 3,\n            'f': \"3\",\n        },\n\"petal length (cm)\"],\n [{\n            'v': 4,\n            'f': \"4\",\n        },\n\"petal width (cm)\"]],\n        columns: [[\"number\", \"index\"], [\"string\", \"Atribut\"]],\n        columnOptions: [{\"width\": \"1px\", \"className\": \"index_column\"}],\n        rowsPerPage: 25,\n        helpUrl: \"https://colab.research.google.com/notebooks/data_table.ipynb\",\n        suppressOutputScrolling: true,\n        minimumWidth: undefined,\n      });\n    "
          },
          "metadata": {}
        }
      ]
    },
    {
      "cell_type": "markdown",
      "source": [
        "Dari output diatas, diketahui banyak data Iris yang digunakan adalah sejumlah **150 sampel**, yang terdiri dari **3 kelas**, yaitu: \n",
        "1. Iris Setosa \n",
        "2. Iris Versicolour, dan\n",
        "3. Iris Virginica \n",
        "\n",
        "Adapun **atribut/fitur** dari dataset ini terdiri dari:\n",
        "1. **panjang sepal** (bagian kelopak bunga) dalam sentimeter, \n",
        "2. **lebar sepal** (bagian kelopak bunga) dalam sentimeter, \n",
        "3. **panjang petal** (kelopak bunga) dalam sentimeter, dan \n",
        "4. **lebar petal** (kelopak bunga) dalam sentimeter."
      ],
      "metadata": {
        "id": "5tuOxNQh53D8"
      }
    },
    {
      "cell_type": "markdown",
      "source": [
        "#### **2. Define Prediktor & Target**<br/>\n",
        "Setelah memahami dataset yang akan diolah, selanjutnya kita perlu menentukan **variabel prediktor (X)** dan **variabel target (y)**-nya."
      ],
      "metadata": {
        "id": "DrMMW0164kp6"
      }
    },
    {
      "cell_type": "code",
      "source": [
        "X = iris.data\n",
        "y = iris.target\n",
        "\n",
        "define = pd.DataFrame(X, columns=iris.feature_names)\n",
        "define['target'] = y\n",
        "define['target'] = define['target'].map({0: \"setosa\", 1: \"versicolor\", 2: \"virginica\"})\n",
        "\n",
        "define.tail()"
      ],
      "metadata": {
        "colab": {
          "base_uri": "https://localhost:8080/",
          "height": 197
        },
        "id": "3fKx4yZ39jTA",
        "outputId": "cf8965c1-1c52-4463-b3e3-2049e107b692"
      },
      "execution_count": 48,
      "outputs": [
        {
          "output_type": "execute_result",
          "data": {
            "text/plain": [
              "     sepal length (cm)  sepal width (cm)  petal length (cm)  petal width (cm)  \\\n",
              "145                6.7               3.0                5.2               2.3   \n",
              "146                6.3               2.5                5.0               1.9   \n",
              "147                6.5               3.0                5.2               2.0   \n",
              "148                6.2               3.4                5.4               2.3   \n",
              "149                5.9               3.0                5.1               1.8   \n",
              "\n",
              "        target  \n",
              "145  virginica  \n",
              "146  virginica  \n",
              "147  virginica  \n",
              "148  virginica  \n",
              "149  virginica  "
            ],
            "text/html": [
              "\n",
              "  <div id=\"df-c4af168d-b641-44a9-8a1a-8aa64eac7954\">\n",
              "    <div class=\"colab-df-container\">\n",
              "      <div>\n",
              "<style scoped>\n",
              "    .dataframe tbody tr th:only-of-type {\n",
              "        vertical-align: middle;\n",
              "    }\n",
              "\n",
              "    .dataframe tbody tr th {\n",
              "        vertical-align: top;\n",
              "    }\n",
              "\n",
              "    .dataframe thead th {\n",
              "        text-align: right;\n",
              "    }\n",
              "</style>\n",
              "<table border=\"1\" class=\"dataframe\">\n",
              "  <thead>\n",
              "    <tr style=\"text-align: right;\">\n",
              "      <th></th>\n",
              "      <th>sepal length (cm)</th>\n",
              "      <th>sepal width (cm)</th>\n",
              "      <th>petal length (cm)</th>\n",
              "      <th>petal width (cm)</th>\n",
              "      <th>target</th>\n",
              "    </tr>\n",
              "  </thead>\n",
              "  <tbody>\n",
              "    <tr>\n",
              "      <th>145</th>\n",
              "      <td>6.7</td>\n",
              "      <td>3.0</td>\n",
              "      <td>5.2</td>\n",
              "      <td>2.3</td>\n",
              "      <td>virginica</td>\n",
              "    </tr>\n",
              "    <tr>\n",
              "      <th>146</th>\n",
              "      <td>6.3</td>\n",
              "      <td>2.5</td>\n",
              "      <td>5.0</td>\n",
              "      <td>1.9</td>\n",
              "      <td>virginica</td>\n",
              "    </tr>\n",
              "    <tr>\n",
              "      <th>147</th>\n",
              "      <td>6.5</td>\n",
              "      <td>3.0</td>\n",
              "      <td>5.2</td>\n",
              "      <td>2.0</td>\n",
              "      <td>virginica</td>\n",
              "    </tr>\n",
              "    <tr>\n",
              "      <th>148</th>\n",
              "      <td>6.2</td>\n",
              "      <td>3.4</td>\n",
              "      <td>5.4</td>\n",
              "      <td>2.3</td>\n",
              "      <td>virginica</td>\n",
              "    </tr>\n",
              "    <tr>\n",
              "      <th>149</th>\n",
              "      <td>5.9</td>\n",
              "      <td>3.0</td>\n",
              "      <td>5.1</td>\n",
              "      <td>1.8</td>\n",
              "      <td>virginica</td>\n",
              "    </tr>\n",
              "  </tbody>\n",
              "</table>\n",
              "</div>\n",
              "      <button class=\"colab-df-convert\" onclick=\"convertToInteractive('df-c4af168d-b641-44a9-8a1a-8aa64eac7954')\"\n",
              "              title=\"Convert this dataframe to an interactive table.\"\n",
              "              style=\"display:none;\">\n",
              "        \n",
              "  <svg xmlns=\"http://www.w3.org/2000/svg\" height=\"24px\"viewBox=\"0 0 24 24\"\n",
              "       width=\"24px\">\n",
              "    <path d=\"M0 0h24v24H0V0z\" fill=\"none\"/>\n",
              "    <path d=\"M18.56 5.44l.94 2.06.94-2.06 2.06-.94-2.06-.94-.94-2.06-.94 2.06-2.06.94zm-11 1L8.5 8.5l.94-2.06 2.06-.94-2.06-.94L8.5 2.5l-.94 2.06-2.06.94zm10 10l.94 2.06.94-2.06 2.06-.94-2.06-.94-.94-2.06-.94 2.06-2.06.94z\"/><path d=\"M17.41 7.96l-1.37-1.37c-.4-.4-.92-.59-1.43-.59-.52 0-1.04.2-1.43.59L10.3 9.45l-7.72 7.72c-.78.78-.78 2.05 0 2.83L4 21.41c.39.39.9.59 1.41.59.51 0 1.02-.2 1.41-.59l7.78-7.78 2.81-2.81c.8-.78.8-2.07 0-2.86zM5.41 20L4 18.59l7.72-7.72 1.47 1.35L5.41 20z\"/>\n",
              "  </svg>\n",
              "      </button>\n",
              "      \n",
              "  <style>\n",
              "    .colab-df-container {\n",
              "      display:flex;\n",
              "      flex-wrap:wrap;\n",
              "      gap: 12px;\n",
              "    }\n",
              "\n",
              "    .colab-df-convert {\n",
              "      background-color: #E8F0FE;\n",
              "      border: none;\n",
              "      border-radius: 50%;\n",
              "      cursor: pointer;\n",
              "      display: none;\n",
              "      fill: #1967D2;\n",
              "      height: 32px;\n",
              "      padding: 0 0 0 0;\n",
              "      width: 32px;\n",
              "    }\n",
              "\n",
              "    .colab-df-convert:hover {\n",
              "      background-color: #E2EBFA;\n",
              "      box-shadow: 0px 1px 2px rgba(60, 64, 67, 0.3), 0px 1px 3px 1px rgba(60, 64, 67, 0.15);\n",
              "      fill: #174EA6;\n",
              "    }\n",
              "\n",
              "    [theme=dark] .colab-df-convert {\n",
              "      background-color: #3B4455;\n",
              "      fill: #D2E3FC;\n",
              "    }\n",
              "\n",
              "    [theme=dark] .colab-df-convert:hover {\n",
              "      background-color: #434B5C;\n",
              "      box-shadow: 0px 1px 3px 1px rgba(0, 0, 0, 0.15);\n",
              "      filter: drop-shadow(0px 1px 2px rgba(0, 0, 0, 0.3));\n",
              "      fill: #FFFFFF;\n",
              "    }\n",
              "  </style>\n",
              "\n",
              "      <script>\n",
              "        const buttonEl =\n",
              "          document.querySelector('#df-c4af168d-b641-44a9-8a1a-8aa64eac7954 button.colab-df-convert');\n",
              "        buttonEl.style.display =\n",
              "          google.colab.kernel.accessAllowed ? 'block' : 'none';\n",
              "\n",
              "        async function convertToInteractive(key) {\n",
              "          const element = document.querySelector('#df-c4af168d-b641-44a9-8a1a-8aa64eac7954');\n",
              "          const dataTable =\n",
              "            await google.colab.kernel.invokeFunction('convertToInteractive',\n",
              "                                                     [key], {});\n",
              "          if (!dataTable) return;\n",
              "\n",
              "          const docLinkHtml = 'Like what you see? Visit the ' +\n",
              "            '<a target=\"_blank\" href=https://colab.research.google.com/notebooks/data_table.ipynb>data table notebook</a>'\n",
              "            + ' to learn more about interactive tables.';\n",
              "          element.innerHTML = '';\n",
              "          dataTable['output_type'] = 'display_data';\n",
              "          await google.colab.output.renderOutput(dataTable, element);\n",
              "          const docLink = document.createElement('div');\n",
              "          docLink.innerHTML = docLinkHtml;\n",
              "          element.appendChild(docLink);\n",
              "        }\n",
              "      </script>\n",
              "    </div>\n",
              "  </div>\n",
              "  "
            ],
            "application/vnd.google.colaboratory.module+javascript": "\n      import \"https://ssl.gstatic.com/colaboratory/data_table/99dac6621f6ae8c4/data_table.js\";\n\n      window.createDataTable({\n        data: [[{\n            'v': 145,\n            'f': \"145\",\n        },\n{\n            'v': 6.7,\n            'f': \"6.7\",\n        },\n{\n            'v': 3.0,\n            'f': \"3.0\",\n        },\n{\n            'v': 5.2,\n            'f': \"5.2\",\n        },\n{\n            'v': 2.3,\n            'f': \"2.3\",\n        },\n\"virginica\"],\n [{\n            'v': 146,\n            'f': \"146\",\n        },\n{\n            'v': 6.3,\n            'f': \"6.3\",\n        },\n{\n            'v': 2.5,\n            'f': \"2.5\",\n        },\n{\n            'v': 5.0,\n            'f': \"5.0\",\n        },\n{\n            'v': 1.9,\n            'f': \"1.9\",\n        },\n\"virginica\"],\n [{\n            'v': 147,\n            'f': \"147\",\n        },\n{\n            'v': 6.5,\n            'f': \"6.5\",\n        },\n{\n            'v': 3.0,\n            'f': \"3.0\",\n        },\n{\n            'v': 5.2,\n            'f': \"5.2\",\n        },\n{\n            'v': 2.0,\n            'f': \"2.0\",\n        },\n\"virginica\"],\n [{\n            'v': 148,\n            'f': \"148\",\n        },\n{\n            'v': 6.2,\n            'f': \"6.2\",\n        },\n{\n            'v': 3.4,\n            'f': \"3.4\",\n        },\n{\n            'v': 5.4,\n            'f': \"5.4\",\n        },\n{\n            'v': 2.3,\n            'f': \"2.3\",\n        },\n\"virginica\"],\n [{\n            'v': 149,\n            'f': \"149\",\n        },\n{\n            'v': 5.9,\n            'f': \"5.9\",\n        },\n{\n            'v': 3.0,\n            'f': \"3.0\",\n        },\n{\n            'v': 5.1,\n            'f': \"5.1\",\n        },\n{\n            'v': 1.8,\n            'f': \"1.8\",\n        },\n\"virginica\"]],\n        columns: [[\"number\", \"index\"], [\"number\", \"sepal length (cm)\"], [\"number\", \"sepal width (cm)\"], [\"number\", \"petal length (cm)\"], [\"number\", \"petal width (cm)\"], [\"string\", \"target\"]],\n        columnOptions: [{\"width\": \"1px\", \"className\": \"index_column\"}],\n        rowsPerPage: 25,\n        helpUrl: \"https://colab.research.google.com/notebooks/data_table.ipynb\",\n        suppressOutputScrolling: true,\n        minimumWidth: undefined,\n      });\n    "
          },
          "metadata": {},
          "execution_count": 48
        }
      ]
    },
    {
      "cell_type": "markdown",
      "source": [
        "Dari output diatas, disimpulkan bahwa masing-masing variabel X dan Y yang dibuat akan bertindak sebagai **variabel prediktor (X)** dan **variabel target (y)**, dimana:\n",
        "\n",
        "- Variabel Predictor akan berisi informasi **sepal length (cm)**, **sepal width (cm)**, **petal length (cm)** dan **petal width (cm)**.\n",
        "- Variabel Target akan berisi prediksi kelas yaitu **setosa**, **versicolour** dan **virginica**."
      ],
      "metadata": {
        "id": "fntWjzwvDtHK"
      }
    },
    {
      "cell_type": "markdown",
      "source": [
        "#### **3. Split Dataset**<br/>\n",
        "Langkah selanjutnya setelah menentukan variabel-variabelnya adalah membagi dataset menjadi 2 bagian, yaitu **data training** dan **data uji**.<br/>Dari penjelasan berikut, terdapat 2 cara atau metode yang bisa dilakukan untuk melakukan pembagian dataset ini, yaitu: "
      ],
      "metadata": {
        "id": "Fd9vVR554w-e"
      }
    },
    {
      "cell_type": "markdown",
      "source": [
        "##### **3.1 Train-Validation Split**<br/>\n",
        "Teknik ini menjadi yang paling sering digunakan, adapun teknik ini membagi data menjadi dua subset: training set dan validation set, dimana: \n",
        "- Training set digunakan untuk melatih model dan \n",
        "- Validation set digunakan untuk mengevaluasi performa model.\n",
        "\n",
        "Kelebihan dari teknik ini adalah lebih cepat dan lebih sederhana dibandingkan teknik *K-Fold Cross Validation*. Namun, kelemahannya adalah model bisa *overfitting* atau *underfitting* pada data validasi karena ukuran data validasi yang terbatas.\n",
        "\n",
        "Berikut ini contoh menggunakan teknik ini dalam Python, yaitu dengan menggunakan fungsi `train_test_split()` dari **Scikit-Learn**."
      ],
      "metadata": {
        "id": "CkwlZWPF44mi"
      }
    },
    {
      "cell_type": "code",
      "source": [
        "from sklearn.model_selection import train_test_split\n",
        "\n",
        "'''\n",
        "  Penjelasan parameter dalam Train-Validation Split\n",
        "  - X = berisi fitur-fitur dari dataset (variabel prediktor)\n",
        "  - y = berisi target atau label dari dataset (variabel target)\n",
        "  - train_size = menunjukkan proporsi data yang akan digunakan sebagai data latih (dalam hal ini 70%)\n",
        "'''\n",
        "X_train, X_test, y_train, y_test = train_test_split(X, y, train_size = 0.7)\n",
        "\n",
        "print(\"Data Latih :\", len(X_train))\n",
        "print(\"Data Uji   :\", len(X_test))"
      ],
      "metadata": {
        "colab": {
          "base_uri": "https://localhost:8080/"
        },
        "id": "6DCwrboX9C0J",
        "outputId": "6be475a4-9144-485c-e5c4-8ec10c1d8d6a"
      },
      "execution_count": 51,
      "outputs": [
        {
          "output_type": "stream",
          "name": "stdout",
          "text": [
            "Data Latih : 105\n",
            "Data Uji   : 45\n"
          ]
        }
      ]
    },
    {
      "cell_type": "markdown",
      "source": [
        "##### **3.2 K-Fold Cross Validation**<br/>\n",
        "\n",
        "Berbeda dengan Train-Validation Split, K-Fold Cross Validation membagi data menjadi **k subset** yang sama besar. Setiap subset akan dipakai sebagai validation set secara bergantian dan sisanya sebagai training set.\n",
        "\n",
        "Kelebihan dari teknik ini adalah model dapat dievaluasi pada seluruh data dan tidak ada data yang dibuang. Kelemahan dari teknik ini adalah memakan waktu lebih lama dan kompleksitas yang lebih tinggi dibandingkan Train-Validation Split.\n",
        "\n",
        "Dalam Train-Validation Split, kita dapat memilih ukuran validation set secara fleksibel, sementara dalam K-Fold Cross Validation ini, ukuran validation set ditentukan oleh jumlah subset yang dibuat.\n",
        "\n",
        "---\n",
        "\n",
        "Berikut ini contoh untuk melakukan split menggunakan K-Fold Cross Validation:"
      ],
      "metadata": {
        "id": "ZWVUQqJq4_dX"
      }
    },
    {
      "cell_type": "code",
      "source": [
        "from sklearn.model_selection import cross_val_score\n",
        "from sklearn.svm import SVC\n",
        "\n",
        "model = SVC(kernel = 'linear', C = 1)\n",
        "scores = cross_val_score(model, X, y, cv = 5)\n",
        "\n",
        "print(\"Akurasi model SVM untuk tiap fold: \", scores)\n",
        "print(\"Akurasi model SVM dengan 5-Fold Cross Validation: \", scores.mean())"
      ],
      "metadata": {
        "colab": {
          "base_uri": "https://localhost:8080/"
        },
        "id": "apjUFvEQ9Kdx",
        "outputId": "d92b07a1-d7fe-491d-9e1d-66dc8c711ac4"
      },
      "execution_count": 123,
      "outputs": [
        {
          "output_type": "stream",
          "name": "stdout",
          "text": [
            "Akurasi model SVM untuk tiap fold:  [0.96666667 1.         0.96666667 0.96666667 1.        ]\n",
            "Akurasi model SVM dengan 5-Fold Cross Validation:  0.9800000000000001\n"
          ]
        }
      ]
    },
    {
      "cell_type": "markdown",
      "source": [
        "#### **4. Pembuatan Model Klasifikasi**<br/>\n",
        "Sebelum memutuskan untuk membuat **model**, perlu diputuskan terlebih dahulu terkait **data split** mana yang akan digunakan.<br/>Syntax lanjutan dalam laporan ini akan menggunakan data hasil split dari metode **Train-Validation Split**."
      ],
      "metadata": {
        "id": "Bn5ruFe25IRe"
      }
    },
    {
      "cell_type": "markdown",
      "source": [
        "##### **4.1 Logistic Regression**<br/>\n",
        "Logistic Regression adalah salah satu jenis algoritma Machine Learning pada supervised learning yang digunakan untuk memprediksi nilai diskrit, yaitu binary (0/1), True/False, dan lain-lain. Tujuannya adalah untuk menentukan kemungkinan suatu event yang terjadi, dengan menghitung nilai probability dalam bentuk nilai antara 0 dan 1. \n",
        "\n",
        "\n",
        "**Referensi:**<br/>\n",
        "https://scikit-learn.org/stable/modules/generated/sklearn.linear_model.LogisticRegression.html"
      ],
      "metadata": {
        "id": "QMxefsMU5NYr"
      }
    },
    {
      "cell_type": "markdown",
      "source": [
        "###### **a) Model**"
      ],
      "metadata": {
        "id": "mDtEB1FOOvCZ"
      }
    },
    {
      "cell_type": "code",
      "source": [
        "from sklearn.linear_model import LogisticRegression\n",
        "\n",
        "lr = LogisticRegression()\n",
        "\n",
        "lr.fit(X_train, y_train)"
      ],
      "metadata": {
        "colab": {
          "base_uri": "https://localhost:8080/",
          "height": 75
        },
        "id": "mYn9j9dO8kpF",
        "outputId": "5b10f6c7-4b84-456c-c252-2708898be069"
      },
      "execution_count": 101,
      "outputs": [
        {
          "output_type": "execute_result",
          "data": {
            "text/plain": [
              "LogisticRegression()"
            ],
            "text/html": [
              "<style>#sk-container-id-3 {color: black;background-color: white;}#sk-container-id-3 pre{padding: 0;}#sk-container-id-3 div.sk-toggleable {background-color: white;}#sk-container-id-3 label.sk-toggleable__label {cursor: pointer;display: block;width: 100%;margin-bottom: 0;padding: 0.3em;box-sizing: border-box;text-align: center;}#sk-container-id-3 label.sk-toggleable__label-arrow:before {content: \"▸\";float: left;margin-right: 0.25em;color: #696969;}#sk-container-id-3 label.sk-toggleable__label-arrow:hover:before {color: black;}#sk-container-id-3 div.sk-estimator:hover label.sk-toggleable__label-arrow:before {color: black;}#sk-container-id-3 div.sk-toggleable__content {max-height: 0;max-width: 0;overflow: hidden;text-align: left;background-color: #f0f8ff;}#sk-container-id-3 div.sk-toggleable__content pre {margin: 0.2em;color: black;border-radius: 0.25em;background-color: #f0f8ff;}#sk-container-id-3 input.sk-toggleable__control:checked~div.sk-toggleable__content {max-height: 200px;max-width: 100%;overflow: auto;}#sk-container-id-3 input.sk-toggleable__control:checked~label.sk-toggleable__label-arrow:before {content: \"▾\";}#sk-container-id-3 div.sk-estimator input.sk-toggleable__control:checked~label.sk-toggleable__label {background-color: #d4ebff;}#sk-container-id-3 div.sk-label input.sk-toggleable__control:checked~label.sk-toggleable__label {background-color: #d4ebff;}#sk-container-id-3 input.sk-hidden--visually {border: 0;clip: rect(1px 1px 1px 1px);clip: rect(1px, 1px, 1px, 1px);height: 1px;margin: -1px;overflow: hidden;padding: 0;position: absolute;width: 1px;}#sk-container-id-3 div.sk-estimator {font-family: monospace;background-color: #f0f8ff;border: 1px dotted black;border-radius: 0.25em;box-sizing: border-box;margin-bottom: 0.5em;}#sk-container-id-3 div.sk-estimator:hover {background-color: #d4ebff;}#sk-container-id-3 div.sk-parallel-item::after {content: \"\";width: 100%;border-bottom: 1px solid gray;flex-grow: 1;}#sk-container-id-3 div.sk-label:hover label.sk-toggleable__label {background-color: #d4ebff;}#sk-container-id-3 div.sk-serial::before {content: \"\";position: absolute;border-left: 1px solid gray;box-sizing: border-box;top: 0;bottom: 0;left: 50%;z-index: 0;}#sk-container-id-3 div.sk-serial {display: flex;flex-direction: column;align-items: center;background-color: white;padding-right: 0.2em;padding-left: 0.2em;position: relative;}#sk-container-id-3 div.sk-item {position: relative;z-index: 1;}#sk-container-id-3 div.sk-parallel {display: flex;align-items: stretch;justify-content: center;background-color: white;position: relative;}#sk-container-id-3 div.sk-item::before, #sk-container-id-3 div.sk-parallel-item::before {content: \"\";position: absolute;border-left: 1px solid gray;box-sizing: border-box;top: 0;bottom: 0;left: 50%;z-index: -1;}#sk-container-id-3 div.sk-parallel-item {display: flex;flex-direction: column;z-index: 1;position: relative;background-color: white;}#sk-container-id-3 div.sk-parallel-item:first-child::after {align-self: flex-end;width: 50%;}#sk-container-id-3 div.sk-parallel-item:last-child::after {align-self: flex-start;width: 50%;}#sk-container-id-3 div.sk-parallel-item:only-child::after {width: 0;}#sk-container-id-3 div.sk-dashed-wrapped {border: 1px dashed gray;margin: 0 0.4em 0.5em 0.4em;box-sizing: border-box;padding-bottom: 0.4em;background-color: white;}#sk-container-id-3 div.sk-label label {font-family: monospace;font-weight: bold;display: inline-block;line-height: 1.2em;}#sk-container-id-3 div.sk-label-container {text-align: center;}#sk-container-id-3 div.sk-container {/* jupyter's `normalize.less` sets `[hidden] { display: none; }` but bootstrap.min.css set `[hidden] { display: none !important; }` so we also need the `!important` here to be able to override the default hidden behavior on the sphinx rendered scikit-learn.org. See: https://github.com/scikit-learn/scikit-learn/issues/21755 */display: inline-block !important;position: relative;}#sk-container-id-3 div.sk-text-repr-fallback {display: none;}</style><div id=\"sk-container-id-3\" class=\"sk-top-container\"><div class=\"sk-text-repr-fallback\"><pre>LogisticRegression()</pre><b>In a Jupyter environment, please rerun this cell to show the HTML representation or trust the notebook. <br />On GitHub, the HTML representation is unable to render, please try loading this page with nbviewer.org.</b></div><div class=\"sk-container\" hidden><div class=\"sk-item\"><div class=\"sk-estimator sk-toggleable\"><input class=\"sk-toggleable__control sk-hidden--visually\" id=\"sk-estimator-id-3\" type=\"checkbox\" checked><label for=\"sk-estimator-id-3\" class=\"sk-toggleable__label sk-toggleable__label-arrow\">LogisticRegression</label><div class=\"sk-toggleable__content\"><pre>LogisticRegression()</pre></div></div></div></div></div>"
            ]
          },
          "metadata": {},
          "execution_count": 101
        }
      ]
    },
    {
      "cell_type": "markdown",
      "source": [
        "###### **b) Confusion Matrix**"
      ],
      "metadata": {
        "id": "9Cqs2fPnOy7p"
      }
    },
    {
      "cell_type": "code",
      "source": [
        "y_predRegresi = lr.predict(X_test)\n",
        "\n",
        "cm = confusion_matrix(y_test, y_predRegresi)\n",
        "\n",
        "plt.figure(figsize=(4,3))\n",
        "fx = sns.heatmap(cm, annot=True, fmt=\".0f\", cmap=\"Greens\")\n",
        "fx.set_title('Confusion Matrix (Logistic Regression) \\n');\n",
        "fx.set_xlabel('\\n Nilai Prediksi \\n')\n",
        "fx.set_ylabel('Nilai Aktual \\n');\n",
        "fx.xaxis.set_ticklabels(['Setosa','Versicolour','Virginica'])\n",
        "fx.yaxis.set_ticklabels(['Setosa','Versicolour','Virginica'])\n",
        "plt.show()"
      ],
      "metadata": {
        "colab": {
          "base_uri": "https://localhost:8080/",
          "height": 386
        },
        "id": "haoo2Z87NQnX",
        "outputId": "75bcf6de-fe7c-4ee3-9545-88900fce52b1"
      },
      "execution_count": 103,
      "outputs": [
        {
          "output_type": "display_data",
          "data": {
            "text/plain": [
              "<Figure size 400x300 with 2 Axes>"
            ],
            "image/png": "[encoded data removed]"
          },
          "metadata": {}
        }
      ]
    },
    {
      "cell_type": "markdown",
      "source": [
        "###### **c) Accuracy Score**"
      ],
      "metadata": {
        "id": "Y_s_S4l0O4Ud"
      }
    },
    {
      "cell_type": "code",
      "source": [
        "score = accuracy_score(y_test, y_predRegresi)\n",
        "print(\"Akurasi Logistic Regression =\", score)"
      ],
      "metadata": {
        "colab": {
          "base_uri": "https://localhost:8080/"
        },
        "id": "Yx-1Z8NYNJry",
        "outputId": "865eb0af-f3d0-4417-b6c3-480a7642d769"
      },
      "execution_count": 104,
      "outputs": [
        {
          "output_type": "stream",
          "name": "stdout",
          "text": [
            "Akurasi Logistic Regression = 0.9777777777777777\n"
          ]
        }
      ]
    },
    {
      "cell_type": "markdown",
      "source": [
        "##### **4.2 Support Vector Machine**<br/>\n",
        "Support Vector Machine (SVM) adalah salah satu algoritma pembelajaran mesin yang digunakan untuk klasifikasi dan regresi. SVM mencari sebuah hyperplane dalam sebuah ruang dengan dimensi tinggi yang memisahkan dua kelas, sehingga margin antara kedua kelas adalah maksimum. \n",
        "\n",
        "**Referensi:**<br/>\n",
        "https://scikit-learn.org/stable/modules/generated/sklearn.svm.SVC.html"
      ],
      "metadata": {
        "id": "qggpUAvB5RmK"
      }
    },
    {
      "cell_type": "markdown",
      "source": [
        "###### **a) Model**"
      ],
      "metadata": {
        "id": "2LliLsWuOw1N"
      }
    },
    {
      "cell_type": "code",
      "source": [
        "from sklearn.svm import SVC\n",
        "\n",
        "'''\n",
        "  Penjelasan parameter:\n",
        "  - SCV     = fungsi untuk membuat model SVM\n",
        "  - kernel  = jenis kernel yang digunakan, diantaranya\n",
        "              - rbf       = Radial Basis Function, kernel yang paling fleksibel dan dapat digunakan untuk menangani data yang sangat kompleks\n",
        "              - poly      = digunakan ketika data memiliki pola yang kompleks dan sulit dipisahkan dengan garis lurus\n",
        "              - linear    = digunakan ketika data terbentuk oleh garis lurus di antara mereka\n",
        "              - signoid   = digunakan ketika data memiliki pola yang kompleks dan sulit dipisahkan dengan garis lurus\n",
        "  - C       = untuk mengatur trade-off antara penyebaran kesalahan (misclassification) dan kompleksitas model. Semakin besar nilai C, semakin kompleks model, dan semakin sedikit kesalahan yang diperbolehkan\n",
        "  - gamma   = untuk mengatur lebar fungsi kernel. Semakin kecil nilai gamma, semakin lebar fungsi kernel, dan semakin banyak titik yang mempengaruhi hasil prediksi\n",
        "  - degree  = khusus kernel 'poly', untuk menentukan derajat polinomial pada kernel\n",
        "'''\n",
        "svm = SVC(kernel = 'rbf', C = 1, gamma = 0.01)\n",
        "svm.fit(X_train, y_train)"
      ],
      "metadata": {
        "colab": {
          "base_uri": "https://localhost:8080/",
          "height": 75
        },
        "id": "XK26wLPV8tRs",
        "outputId": "34738dbb-718e-458d-c6e0-c2021045c218"
      },
      "execution_count": 127,
      "outputs": [
        {
          "output_type": "execute_result",
          "data": {
            "text/plain": [
              "SVC(C=1, gamma=0.01)"
            ],
            "text/html": [
              "<style>#sk-container-id-10 {color: black;background-color: white;}#sk-container-id-10 pre{padding: 0;}#sk-container-id-10 div.sk-toggleable {background-color: white;}#sk-container-id-10 label.sk-toggleable__label {cursor: pointer;display: block;width: 100%;margin-bottom: 0;padding: 0.3em;box-sizing: border-box;text-align: center;}#sk-container-id-10 label.sk-toggleable__label-arrow:before {content: \"▸\";float: left;margin-right: 0.25em;color: #696969;}#sk-container-id-10 label.sk-toggleable__label-arrow:hover:before {color: black;}#sk-container-id-10 div.sk-estimator:hover label.sk-toggleable__label-arrow:before {color: black;}#sk-container-id-10 div.sk-toggleable__content {max-height: 0;max-width: 0;overflow: hidden;text-align: left;background-color: #f0f8ff;}#sk-container-id-10 div.sk-toggleable__content pre {margin: 0.2em;color: black;border-radius: 0.25em;background-color: #f0f8ff;}#sk-container-id-10 input.sk-toggleable__control:checked~div.sk-toggleable__content {max-height: 200px;max-width: 100%;overflow: auto;}#sk-container-id-10 input.sk-toggleable__control:checked~label.sk-toggleable__label-arrow:before {content: \"▾\";}#sk-container-id-10 div.sk-estimator input.sk-toggleable__control:checked~label.sk-toggleable__label {background-color: #d4ebff;}#sk-container-id-10 div.sk-label input.sk-toggleable__control:checked~label.sk-toggleable__label {background-color: #d4ebff;}#sk-container-id-10 input.sk-hidden--visually {border: 0;clip: rect(1px 1px 1px 1px);clip: rect(1px, 1px, 1px, 1px);height: 1px;margin: -1px;overflow: hidden;padding: 0;position: absolute;width: 1px;}#sk-container-id-10 div.sk-estimator {font-family: monospace;background-color: #f0f8ff;border: 1px dotted black;border-radius: 0.25em;box-sizing: border-box;margin-bottom: 0.5em;}#sk-container-id-10 div.sk-estimator:hover {background-color: #d4ebff;}#sk-container-id-10 div.sk-parallel-item::after {content: \"\";width: 100%;border-bottom: 1px solid gray;flex-grow: 1;}#sk-container-id-10 div.sk-label:hover label.sk-toggleable__label {background-color: #d4ebff;}#sk-container-id-10 div.sk-serial::before {content: \"\";position: absolute;border-left: 1px solid gray;box-sizing: border-box;top: 0;bottom: 0;left: 50%;z-index: 0;}#sk-container-id-10 div.sk-serial {display: flex;flex-direction: column;align-items: center;background-color: white;padding-right: 0.2em;padding-left: 0.2em;position: relative;}#sk-container-id-10 div.sk-item {position: relative;z-index: 1;}#sk-container-id-10 div.sk-parallel {display: flex;align-items: stretch;justify-content: center;background-color: white;position: relative;}#sk-container-id-10 div.sk-item::before, #sk-container-id-10 div.sk-parallel-item::before {content: \"\";position: absolute;border-left: 1px solid gray;box-sizing: border-box;top: 0;bottom: 0;left: 50%;z-index: -1;}#sk-container-id-10 div.sk-parallel-item {display: flex;flex-direction: column;z-index: 1;position: relative;background-color: white;}#sk-container-id-10 div.sk-parallel-item:first-child::after {align-self: flex-end;width: 50%;}#sk-container-id-10 div.sk-parallel-item:last-child::after {align-self: flex-start;width: 50%;}#sk-container-id-10 div.sk-parallel-item:only-child::after {width: 0;}#sk-container-id-10 div.sk-dashed-wrapped {border: 1px dashed gray;margin: 0 0.4em 0.5em 0.4em;box-sizing: border-box;padding-bottom: 0.4em;background-color: white;}#sk-container-id-10 div.sk-label label {font-family: monospace;font-weight: bold;display: inline-block;line-height: 1.2em;}#sk-container-id-10 div.sk-label-container {text-align: center;}#sk-container-id-10 div.sk-container {/* jupyter's `normalize.less` sets `[hidden] { display: none; }` but bootstrap.min.css set `[hidden] { display: none !important; }` so we also need the `!important` here to be able to override the default hidden behavior on the sphinx rendered scikit-learn.org. See: https://github.com/scikit-learn/scikit-learn/issues/21755 */display: inline-block !important;position: relative;}#sk-container-id-10 div.sk-text-repr-fallback {display: none;}</style><div id=\"sk-container-id-10\" class=\"sk-top-container\"><div class=\"sk-text-repr-fallback\"><pre>SVC(C=1, gamma=0.01)</pre><b>In a Jupyter environment, please rerun this cell to show the HTML representation or trust the notebook. <br />On GitHub, the HTML representation is unable to render, please try loading this page with nbviewer.org.</b></div><div class=\"sk-container\" hidden><div class=\"sk-item\"><div class=\"sk-estimator sk-toggleable\"><input class=\"sk-toggleable__control sk-hidden--visually\" id=\"sk-estimator-id-10\" type=\"checkbox\" checked><label for=\"sk-estimator-id-10\" class=\"sk-toggleable__label sk-toggleable__label-arrow\">SVC</label><div class=\"sk-toggleable__content\"><pre>SVC(C=1, gamma=0.01)</pre></div></div></div></div></div>"
            ]
          },
          "metadata": {},
          "execution_count": 127
        }
      ]
    },
    {
      "cell_type": "markdown",
      "source": [
        "###### **b) Confusion Matrix**"
      ],
      "metadata": {
        "id": "bSSCxlwcO0hp"
      }
    },
    {
      "cell_type": "code",
      "source": [
        "y_predSVM = svm.predict(X_test)\n",
        "\n",
        "cm = confusion_matrix(y_test, y_predSVM)\n",
        "\n",
        "plt.figure(figsize=(4,3))\n",
        "fx = sns.heatmap(cm, annot=True, fmt=\".0f\", cmap=\"Oranges\")\n",
        "fx.set_title('Confusion Matrix (SVM) \\n');\n",
        "fx.set_xlabel('\\n Nilai Prediksi \\n')\n",
        "fx.set_ylabel('Nilai Aktual \\n');\n",
        "fx.xaxis.set_ticklabels(['Setosa','Versicolour','Virginica'])\n",
        "fx.yaxis.set_ticklabels(['Setosa','Versicolour','Virginica'])\n",
        "plt.show()"
      ],
      "metadata": {
        "colab": {
          "base_uri": "https://localhost:8080/",
          "height": 386
        },
        "id": "YgZMFSp-NcLk",
        "outputId": "d3a0439c-ccf9-498e-e0ad-fc331ac3fcf2"
      },
      "execution_count": 113,
      "outputs": [
        {
          "output_type": "display_data",
          "data": {
            "text/plain": [
              "<Figure size 400x300 with 2 Axes>"
            ],
            "image/png": "[encoded data removed]"
          },
          "metadata": {}
        }
      ]
    },
    {
      "cell_type": "markdown",
      "source": [
        "###### **c) Accuracy Score**"
      ],
      "metadata": {
        "id": "RHpyzGu3O5yy"
      }
    },
    {
      "cell_type": "code",
      "source": [
        "score = accuracy_score(y_test, y_predSVM)\n",
        "print(\"Akurasi SVM =\", score)"
      ],
      "metadata": {
        "colab": {
          "base_uri": "https://localhost:8080/"
        },
        "id": "923TjXD0Nb4I",
        "outputId": "82cb85c0-7ef8-4079-ba98-d08284f97cce"
      },
      "execution_count": 114,
      "outputs": [
        {
          "output_type": "stream",
          "name": "stdout",
          "text": [
            "Akurasi SVM = 0.8888888888888888\n"
          ]
        }
      ]
    },
    {
      "cell_type": "markdown",
      "source": [
        "##### **4.3 Decision Tree**<br/>\n",
        "Decision Tree adalah sebuah model pembelajaran mesin yang digunakan untuk melakukan klasifikasi dan prediksi dengan membuat struktur pohon keputusan yang terdiri dari node (simpul), cabang (branch), dan daun (leaf). \n",
        "\n",
        "**Referensi:**<br/>\n",
        "https://scikit-learn.org/stable/modules/generated/sklearn.tree.DecisionTreeClassifier.html#sklearn.tree.DecisionTreeClassifier"
      ],
      "metadata": {
        "id": "SevxnSUL5UhG"
      }
    },
    {
      "cell_type": "markdown",
      "source": [
        "###### **a) Model**"
      ],
      "metadata": {
        "id": "a4QXt0VALvlW"
      }
    },
    {
      "cell_type": "code",
      "source": [
        "from sklearn.tree import DecisionTreeClassifier\n",
        "\n",
        "'''\n",
        "  Penjelasan parameter:\n",
        "  - DecisionTreeClassifier = fungsi untuk membuat model Decision Tree\n",
        "  - max_depth = untuk menentukan kedalaman maksimum pohon keputusan. Nilai None berarti tidak ada batasan kedalaman.\n",
        "  - min_samples_split = untuk menentukan jumlah minimum sampel yang dibutuhkan untuk membagi sebuah node. \n",
        "    dalam contoh ini, setiap node harus memiliki setidaknya 2 sampel untuk dapat dibagi menjadi dua cabang baru.\n",
        "'''\n",
        "dt = DecisionTreeClassifier(max_depth = None, min_samples_split = 2)\n",
        "# dt = DecisionTreeClassifier(max_depth = 1, min_samples_split = 2)\n",
        "\n",
        "dt.fit(X_train, y_train)"
      ],
      "metadata": {
        "colab": {
          "base_uri": "https://localhost:8080/",
          "height": 75
        },
        "id": "Ow-VzFqoN5bF",
        "outputId": "6c165431-790a-4643-e58d-ea4694633783"
      },
      "execution_count": 120,
      "outputs": [
        {
          "output_type": "execute_result",
          "data": {
            "text/plain": [
              "DecisionTreeClassifier()"
            ],
            "text/html": [
              "<style>#sk-container-id-6 {color: black;background-color: white;}#sk-container-id-6 pre{padding: 0;}#sk-container-id-6 div.sk-toggleable {background-color: white;}#sk-container-id-6 label.sk-toggleable__label {cursor: pointer;display: block;width: 100%;margin-bottom: 0;padding: 0.3em;box-sizing: border-box;text-align: center;}#sk-container-id-6 label.sk-toggleable__label-arrow:before {content: \"▸\";float: left;margin-right: 0.25em;color: #696969;}#sk-container-id-6 label.sk-toggleable__label-arrow:hover:before {color: black;}#sk-container-id-6 div.sk-estimator:hover label.sk-toggleable__label-arrow:before {color: black;}#sk-container-id-6 div.sk-toggleable__content {max-height: 0;max-width: 0;overflow: hidden;text-align: left;background-color: #f0f8ff;}#sk-container-id-6 div.sk-toggleable__content pre {margin: 0.2em;color: black;border-radius: 0.25em;background-color: #f0f8ff;}#sk-container-id-6 input.sk-toggleable__control:checked~div.sk-toggleable__content {max-height: 200px;max-width: 100%;overflow: auto;}#sk-container-id-6 input.sk-toggleable__control:checked~label.sk-toggleable__label-arrow:before {content: \"▾\";}#sk-container-id-6 div.sk-estimator input.sk-toggleable__control:checked~label.sk-toggleable__label {background-color: #d4ebff;}#sk-container-id-6 div.sk-label input.sk-toggleable__control:checked~label.sk-toggleable__label {background-color: #d4ebff;}#sk-container-id-6 input.sk-hidden--visually {border: 0;clip: rect(1px 1px 1px 1px);clip: rect(1px, 1px, 1px, 1px);height: 1px;margin: -1px;overflow: hidden;padding: 0;position: absolute;width: 1px;}#sk-container-id-6 div.sk-estimator {font-family: monospace;background-color: #f0f8ff;border: 1px dotted black;border-radius: 0.25em;box-sizing: border-box;margin-bottom: 0.5em;}#sk-container-id-6 div.sk-estimator:hover {background-color: #d4ebff;}#sk-container-id-6 div.sk-parallel-item::after {content: \"\";width: 100%;border-bottom: 1px solid gray;flex-grow: 1;}#sk-container-id-6 div.sk-label:hover label.sk-toggleable__label {background-color: #d4ebff;}#sk-container-id-6 div.sk-serial::before {content: \"\";position: absolute;border-left: 1px solid gray;box-sizing: border-box;top: 0;bottom: 0;left: 50%;z-index: 0;}#sk-container-id-6 div.sk-serial {display: flex;flex-direction: column;align-items: center;background-color: white;padding-right: 0.2em;padding-left: 0.2em;position: relative;}#sk-container-id-6 div.sk-item {position: relative;z-index: 1;}#sk-container-id-6 div.sk-parallel {display: flex;align-items: stretch;justify-content: center;background-color: white;position: relative;}#sk-container-id-6 div.sk-item::before, #sk-container-id-6 div.sk-parallel-item::before {content: \"\";position: absolute;border-left: 1px solid gray;box-sizing: border-box;top: 0;bottom: 0;left: 50%;z-index: -1;}#sk-container-id-6 div.sk-parallel-item {display: flex;flex-direction: column;z-index: 1;position: relative;background-color: white;}#sk-container-id-6 div.sk-parallel-item:first-child::after {align-self: flex-end;width: 50%;}#sk-container-id-6 div.sk-parallel-item:last-child::after {align-self: flex-start;width: 50%;}#sk-container-id-6 div.sk-parallel-item:only-child::after {width: 0;}#sk-container-id-6 div.sk-dashed-wrapped {border: 1px dashed gray;margin: 0 0.4em 0.5em 0.4em;box-sizing: border-box;padding-bottom: 0.4em;background-color: white;}#sk-container-id-6 div.sk-label label {font-family: monospace;font-weight: bold;display: inline-block;line-height: 1.2em;}#sk-container-id-6 div.sk-label-container {text-align: center;}#sk-container-id-6 div.sk-container {/* jupyter's `normalize.less` sets `[hidden] { display: none; }` but bootstrap.min.css set `[hidden] { display: none !important; }` so we also need the `!important` here to be able to override the default hidden behavior on the sphinx rendered scikit-learn.org. See: https://github.com/scikit-learn/scikit-learn/issues/21755 */display: inline-block !important;position: relative;}#sk-container-id-6 div.sk-text-repr-fallback {display: none;}</style><div id=\"sk-container-id-6\" class=\"sk-top-container\"><div class=\"sk-text-repr-fallback\"><pre>DecisionTreeClassifier()</pre><b>In a Jupyter environment, please rerun this cell to show the HTML representation or trust the notebook. <br />On GitHub, the HTML representation is unable to render, please try loading this page with nbviewer.org.</b></div><div class=\"sk-container\" hidden><div class=\"sk-item\"><div class=\"sk-estimator sk-toggleable\"><input class=\"sk-toggleable__control sk-hidden--visually\" id=\"sk-estimator-id-6\" type=\"checkbox\" checked><label for=\"sk-estimator-id-6\" class=\"sk-toggleable__label sk-toggleable__label-arrow\">DecisionTreeClassifier</label><div class=\"sk-toggleable__content\"><pre>DecisionTreeClassifier()</pre></div></div></div></div></div>"
            ]
          },
          "metadata": {},
          "execution_count": 120
        }
      ]
    },
    {
      "cell_type": "markdown",
      "source": [
        "###### **b) Confusion Matrix**"
      ],
      "metadata": {
        "id": "hPhikU0eN5Td"
      }
    },
    {
      "cell_type": "code",
      "source": [
        "y_predDT = dt.predict(X_test)\n",
        "\n",
        "cm = confusion_matrix(y_test, y_predDT)\n",
        "\n",
        "plt.figure(figsize=(4,3))\n",
        "fx = sns.heatmap(cm, annot=True, fmt=\".0f\", cmap=\"Purples\")\n",
        "fx.set_title('Confusion Matrix (Decision Tree) \\n');\n",
        "fx.set_xlabel('\\n Nilai Prediksi \\n')\n",
        "fx.set_ylabel('Nilai Aktual \\n');\n",
        "fx.xaxis.set_ticklabels(['Setosa','Versicolour','Virginica'])\n",
        "fx.yaxis.set_ticklabels(['Setosa','Versicolour','Virginica'])\n",
        "plt.show()"
      ],
      "metadata": {
        "colab": {
          "base_uri": "https://localhost:8080/",
          "height": 386
        },
        "id": "6mi9ztSIN5FM",
        "outputId": "fdaab155-f966-4e38-bed7-ee05556467dc"
      },
      "execution_count": 117,
      "outputs": [
        {
          "output_type": "display_data",
          "data": {
            "text/plain": [
              "<Figure size 400x300 with 2 Axes>"
            ],
            "image/png": "[encoded data removed]"
          },
          "metadata": {}
        }
      ]
    },
    {
      "cell_type": "markdown",
      "source": [
        "###### **c) Accuracy Score**"
      ],
      "metadata": {
        "id": "2VmvXrNqN46F"
      }
    },
    {
      "cell_type": "code",
      "source": [
        "score = accuracy_score(y_test, y_predDT)\n",
        "print(\"Akurasi Decision Tree =\", score)"
      ],
      "metadata": {
        "colab": {
          "base_uri": "https://localhost:8080/"
        },
        "id": "zeBCnFszN4fT",
        "outputId": "255d1fc2-7e33-4a3f-a2fb-89191f6faca4"
      },
      "execution_count": 119,
      "outputs": [
        {
          "output_type": "stream",
          "name": "stdout",
          "text": [
            "Akurasi Decision Tree = 0.9111111111111111\n"
          ]
        }
      ]
    },
    {
      "cell_type": "markdown",
      "source": [
        "##### **4.4 Naive Bayes**<br/>\n",
        "Naive Bayes adalah salah satu algoritma klasifikasi yang berdasarkan pada teorema Bayes. Algoritma ini menggunakan model probabilistik sederhana untuk memprediksi kelas dari suatu data berdasarkan fitur-fiturnya.\n",
        "\n",
        "**Referensi:**<br/>\n",
        "https://scikit-learn.org/stable/modules/generated/sklearn.naive_bayes.BernoulliNB.html#sklearn.naive_bayes.BernoulliNB"
      ],
      "metadata": {
        "id": "SudEgLf65XDN"
      }
    },
    {
      "cell_type": "markdown",
      "source": [
        "###### **a) Model**"
      ],
      "metadata": {
        "id": "Xsqwu7gSLuLG"
      }
    },
    {
      "cell_type": "code",
      "source": [
        "from sklearn import naive_bayes\n",
        "\n",
        "nb = naive_bayes.BernoulliNB()\n",
        "nb.fit(X_train, y_train)"
      ],
      "metadata": {
        "colab": {
          "base_uri": "https://localhost:8080/",
          "height": 75
        },
        "id": "HoU7tdWR8Nqk",
        "outputId": "fb6cafa6-bc44-4233-a9c2-69f40bfd5fad"
      },
      "execution_count": 125,
      "outputs": [
        {
          "output_type": "execute_result",
          "data": {
            "text/plain": [
              "BernoulliNB()"
            ],
            "text/html": [
              "<style>#sk-container-id-8 {color: black;background-color: white;}#sk-container-id-8 pre{padding: 0;}#sk-container-id-8 div.sk-toggleable {background-color: white;}#sk-container-id-8 label.sk-toggleable__label {cursor: pointer;display: block;width: 100%;margin-bottom: 0;padding: 0.3em;box-sizing: border-box;text-align: center;}#sk-container-id-8 label.sk-toggleable__label-arrow:before {content: \"▸\";float: left;margin-right: 0.25em;color: #696969;}#sk-container-id-8 label.sk-toggleable__label-arrow:hover:before {color: black;}#sk-container-id-8 div.sk-estimator:hover label.sk-toggleable__label-arrow:before {color: black;}#sk-container-id-8 div.sk-toggleable__content {max-height: 0;max-width: 0;overflow: hidden;text-align: left;background-color: #f0f8ff;}#sk-container-id-8 div.sk-toggleable__content pre {margin: 0.2em;color: black;border-radius: 0.25em;background-color: #f0f8ff;}#sk-container-id-8 input.sk-toggleable__control:checked~div.sk-toggleable__content {max-height: 200px;max-width: 100%;overflow: auto;}#sk-container-id-8 input.sk-toggleable__control:checked~label.sk-toggleable__label-arrow:before {content: \"▾\";}#sk-container-id-8 div.sk-estimator input.sk-toggleable__control:checked~label.sk-toggleable__label {background-color: #d4ebff;}#sk-container-id-8 div.sk-label input.sk-toggleable__control:checked~label.sk-toggleable__label {background-color: #d4ebff;}#sk-container-id-8 input.sk-hidden--visually {border: 0;clip: rect(1px 1px 1px 1px);clip: rect(1px, 1px, 1px, 1px);height: 1px;margin: -1px;overflow: hidden;padding: 0;position: absolute;width: 1px;}#sk-container-id-8 div.sk-estimator {font-family: monospace;background-color: #f0f8ff;border: 1px dotted black;border-radius: 0.25em;box-sizing: border-box;margin-bottom: 0.5em;}#sk-container-id-8 div.sk-estimator:hover {background-color: #d4ebff;}#sk-container-id-8 div.sk-parallel-item::after {content: \"\";width: 100%;border-bottom: 1px solid gray;flex-grow: 1;}#sk-container-id-8 div.sk-label:hover label.sk-toggleable__label {background-color: #d4ebff;}#sk-container-id-8 div.sk-serial::before {content: \"\";position: absolute;border-left: 1px solid gray;box-sizing: border-box;top: 0;bottom: 0;left: 50%;z-index: 0;}#sk-container-id-8 div.sk-serial {display: flex;flex-direction: column;align-items: center;background-color: white;padding-right: 0.2em;padding-left: 0.2em;position: relative;}#sk-container-id-8 div.sk-item {position: relative;z-index: 1;}#sk-container-id-8 div.sk-parallel {display: flex;align-items: stretch;justify-content: center;background-color: white;position: relative;}#sk-container-id-8 div.sk-item::before, #sk-container-id-8 div.sk-parallel-item::before {content: \"\";position: absolute;border-left: 1px solid gray;box-sizing: border-box;top: 0;bottom: 0;left: 50%;z-index: -1;}#sk-container-id-8 div.sk-parallel-item {display: flex;flex-direction: column;z-index: 1;position: relative;background-color: white;}#sk-container-id-8 div.sk-parallel-item:first-child::after {align-self: flex-end;width: 50%;}#sk-container-id-8 div.sk-parallel-item:last-child::after {align-self: flex-start;width: 50%;}#sk-container-id-8 div.sk-parallel-item:only-child::after {width: 0;}#sk-container-id-8 div.sk-dashed-wrapped {border: 1px dashed gray;margin: 0 0.4em 0.5em 0.4em;box-sizing: border-box;padding-bottom: 0.4em;background-color: white;}#sk-container-id-8 div.sk-label label {font-family: monospace;font-weight: bold;display: inline-block;line-height: 1.2em;}#sk-container-id-8 div.sk-label-container {text-align: center;}#sk-container-id-8 div.sk-container {/* jupyter's `normalize.less` sets `[hidden] { display: none; }` but bootstrap.min.css set `[hidden] { display: none !important; }` so we also need the `!important` here to be able to override the default hidden behavior on the sphinx rendered scikit-learn.org. See: https://github.com/scikit-learn/scikit-learn/issues/21755 */display: inline-block !important;position: relative;}#sk-container-id-8 div.sk-text-repr-fallback {display: none;}</style><div id=\"sk-container-id-8\" class=\"sk-top-container\"><div class=\"sk-text-repr-fallback\"><pre>BernoulliNB()</pre><b>In a Jupyter environment, please rerun this cell to show the HTML representation or trust the notebook. <br />On GitHub, the HTML representation is unable to render, please try loading this page with nbviewer.org.</b></div><div class=\"sk-container\" hidden><div class=\"sk-item\"><div class=\"sk-estimator sk-toggleable\"><input class=\"sk-toggleable__control sk-hidden--visually\" id=\"sk-estimator-id-8\" type=\"checkbox\" checked><label for=\"sk-estimator-id-8\" class=\"sk-toggleable__label sk-toggleable__label-arrow\">BernoulliNB</label><div class=\"sk-toggleable__content\"><pre>BernoulliNB()</pre></div></div></div></div></div>"
            ]
          },
          "metadata": {},
          "execution_count": 125
        }
      ]
    },
    {
      "cell_type": "markdown",
      "source": [
        "###### **b) Confusion Matrix**"
      ],
      "metadata": {
        "id": "qqN6istHLy12"
      }
    },
    {
      "cell_type": "code",
      "source": [
        "y_predNB = nb.predict(X_test)\n",
        "\n",
        "cm = confusion_matrix(y_test, y_predNB)\n",
        "\n",
        "plt.figure(figsize=(4,3))\n",
        "fx = sns.heatmap(cm, annot=True, fmt=\".0f\", cmap=\"Reds\")\n",
        "fx.set_title('Confusion Matrix (Naive Bayes) \\n');\n",
        "fx.set_xlabel('\\n Nilai Prediksi \\n')\n",
        "fx.set_ylabel('Nilai Aktual \\n');\n",
        "fx.xaxis.set_ticklabels(['Setosa','Versicolour','Virginica'])\n",
        "fx.yaxis.set_ticklabels(['Setosa','Versicolour','Virginica'])\n",
        "plt.show()"
      ],
      "metadata": {
        "colab": {
          "base_uri": "https://localhost:8080/",
          "height": 386
        },
        "id": "gHjJ5zdYL2Q9",
        "outputId": "ceab4d36-c6db-48ff-e900-1197c8ee8776"
      },
      "execution_count": 98,
      "outputs": [
        {
          "output_type": "display_data",
          "data": {
            "text/plain": [
              "<Figure size 400x300 with 2 Axes>"
            ],
            "image/png": "[encoded data removed]"
          },
          "metadata": {}
        }
      ]
    },
    {
      "cell_type": "markdown",
      "source": [
        "###### **c) Accuracy Score**"
      ],
      "metadata": {
        "id": "ifUp3oheL1yq"
      }
    },
    {
      "cell_type": "code",
      "source": [
        "score = accuracy_score(y_test, y_predNB)\n",
        "print(\"Akurasi Naive Bayes =\", score)"
      ],
      "metadata": {
        "colab": {
          "base_uri": "https://localhost:8080/"
        },
        "id": "RqzCZLFoL1Vx",
        "outputId": "a0243c62-a449-4775-8477-dfddca456bb8"
      },
      "execution_count": 90,
      "outputs": [
        {
          "output_type": "stream",
          "name": "stdout",
          "text": [
            "Akurasi Naive Bayes = 0.3111111111111111\n"
          ]
        }
      ]
    },
    {
      "cell_type": "markdown",
      "source": [
        "##### **4.5 K-Nearest Neighbors**<br/>\n",
        "K-Nearest Neighbors (K-NN) adalah algoritma pembelajaran mesin yang digunakan untuk masalah klasifikasi dan regresi. Algoritma ini mencari k titik data terdekat dari titik data baru yang akan diklasifikasikan atau diregresi. Kemudian, nilai kelas atau nilai rata-rata dari tetangga terdekat digunakan untuk memprediksi nilai kelas atau nilai target dari titik data baru tersebut.\n",
        "\n",
        "**Referensi:**<br/>\n",
        "https://scikit-learn.org/stable/modules/generated/sklearn.neighbors.KNeighborsClassifier.html#sklearn.neighbors.KNeighborsClassifier"
      ],
      "metadata": {
        "id": "zSOWWEl55ZOQ"
      }
    },
    {
      "cell_type": "markdown",
      "source": [
        "###### **a) Model**"
      ],
      "metadata": {
        "id": "bBLuGqweKYA2"
      }
    },
    {
      "cell_type": "code",
      "source": [
        "from sklearn.neighbors import KNeighborsClassifier\n",
        "\n",
        "knn = KNeighborsClassifier()\n",
        "knn.fit(X_train, y_train)"
      ],
      "metadata": {
        "colab": {
          "base_uri": "https://localhost:8080/",
          "height": 75
        },
        "id": "yYQ4sg6S8H6v",
        "outputId": "c5bace31-b8ad-48b6-d38c-a493a01cb871"
      },
      "execution_count": 126,
      "outputs": [
        {
          "output_type": "execute_result",
          "data": {
            "text/plain": [
              "KNeighborsClassifier()"
            ],
            "text/html": [
              "<style>#sk-container-id-9 {color: black;background-color: white;}#sk-container-id-9 pre{padding: 0;}#sk-container-id-9 div.sk-toggleable {background-color: white;}#sk-container-id-9 label.sk-toggleable__label {cursor: pointer;display: block;width: 100%;margin-bottom: 0;padding: 0.3em;box-sizing: border-box;text-align: center;}#sk-container-id-9 label.sk-toggleable__label-arrow:before {content: \"▸\";float: left;margin-right: 0.25em;color: #696969;}#sk-container-id-9 label.sk-toggleable__label-arrow:hover:before {color: black;}#sk-container-id-9 div.sk-estimator:hover label.sk-toggleable__label-arrow:before {color: black;}#sk-container-id-9 div.sk-toggleable__content {max-height: 0;max-width: 0;overflow: hidden;text-align: left;background-color: #f0f8ff;}#sk-container-id-9 div.sk-toggleable__content pre {margin: 0.2em;color: black;border-radius: 0.25em;background-color: #f0f8ff;}#sk-container-id-9 input.sk-toggleable__control:checked~div.sk-toggleable__content {max-height: 200px;max-width: 100%;overflow: auto;}#sk-container-id-9 input.sk-toggleable__control:checked~label.sk-toggleable__label-arrow:before {content: \"▾\";}#sk-container-id-9 div.sk-estimator input.sk-toggleable__control:checked~label.sk-toggleable__label {background-color: #d4ebff;}#sk-container-id-9 div.sk-label input.sk-toggleable__control:checked~label.sk-toggleable__label {background-color: #d4ebff;}#sk-container-id-9 input.sk-hidden--visually {border: 0;clip: rect(1px 1px 1px 1px);clip: rect(1px, 1px, 1px, 1px);height: 1px;margin: -1px;overflow: hidden;padding: 0;position: absolute;width: 1px;}#sk-container-id-9 div.sk-estimator {font-family: monospace;background-color: #f0f8ff;border: 1px dotted black;border-radius: 0.25em;box-sizing: border-box;margin-bottom: 0.5em;}#sk-container-id-9 div.sk-estimator:hover {background-color: #d4ebff;}#sk-container-id-9 div.sk-parallel-item::after {content: \"\";width: 100%;border-bottom: 1px solid gray;flex-grow: 1;}#sk-container-id-9 div.sk-label:hover label.sk-toggleable__label {background-color: #d4ebff;}#sk-container-id-9 div.sk-serial::before {content: \"\";position: absolute;border-left: 1px solid gray;box-sizing: border-box;top: 0;bottom: 0;left: 50%;z-index: 0;}#sk-container-id-9 div.sk-serial {display: flex;flex-direction: column;align-items: center;background-color: white;padding-right: 0.2em;padding-left: 0.2em;position: relative;}#sk-container-id-9 div.sk-item {position: relative;z-index: 1;}#sk-container-id-9 div.sk-parallel {display: flex;align-items: stretch;justify-content: center;background-color: white;position: relative;}#sk-container-id-9 div.sk-item::before, #sk-container-id-9 div.sk-parallel-item::before {content: \"\";position: absolute;border-left: 1px solid gray;box-sizing: border-box;top: 0;bottom: 0;left: 50%;z-index: -1;}#sk-container-id-9 div.sk-parallel-item {display: flex;flex-direction: column;z-index: 1;position: relative;background-color: white;}#sk-container-id-9 div.sk-parallel-item:first-child::after {align-self: flex-end;width: 50%;}#sk-container-id-9 div.sk-parallel-item:last-child::after {align-self: flex-start;width: 50%;}#sk-container-id-9 div.sk-parallel-item:only-child::after {width: 0;}#sk-container-id-9 div.sk-dashed-wrapped {border: 1px dashed gray;margin: 0 0.4em 0.5em 0.4em;box-sizing: border-box;padding-bottom: 0.4em;background-color: white;}#sk-container-id-9 div.sk-label label {font-family: monospace;font-weight: bold;display: inline-block;line-height: 1.2em;}#sk-container-id-9 div.sk-label-container {text-align: center;}#sk-container-id-9 div.sk-container {/* jupyter's `normalize.less` sets `[hidden] { display: none; }` but bootstrap.min.css set `[hidden] { display: none !important; }` so we also need the `!important` here to be able to override the default hidden behavior on the sphinx rendered scikit-learn.org. See: https://github.com/scikit-learn/scikit-learn/issues/21755 */display: inline-block !important;position: relative;}#sk-container-id-9 div.sk-text-repr-fallback {display: none;}</style><div id=\"sk-container-id-9\" class=\"sk-top-container\"><div class=\"sk-text-repr-fallback\"><pre>KNeighborsClassifier()</pre><b>In a Jupyter environment, please rerun this cell to show the HTML representation or trust the notebook. <br />On GitHub, the HTML representation is unable to render, please try loading this page with nbviewer.org.</b></div><div class=\"sk-container\" hidden><div class=\"sk-item\"><div class=\"sk-estimator sk-toggleable\"><input class=\"sk-toggleable__control sk-hidden--visually\" id=\"sk-estimator-id-9\" type=\"checkbox\" checked><label for=\"sk-estimator-id-9\" class=\"sk-toggleable__label sk-toggleable__label-arrow\">KNeighborsClassifier</label><div class=\"sk-toggleable__content\"><pre>KNeighborsClassifier()</pre></div></div></div></div></div>"
            ]
          },
          "metadata": {},
          "execution_count": 126
        }
      ]
    },
    {
      "cell_type": "markdown",
      "source": [
        "###### **b) Confusion Matrix**"
      ],
      "metadata": {
        "id": "Qu_BKE4AKd7h"
      }
    },
    {
      "cell_type": "code",
      "source": [
        "y_predKNN = knn.predict(X_test)\n",
        "\n",
        "cm = confusion_matrix(y_test, y_predKNN)\n",
        "\n",
        "plt.figure(figsize=(4,3))\n",
        "fx = sns.heatmap(cm, annot=True, fmt=\".0f\", cmap=\"Blues\")\n",
        "fx.set_title('Confusion Matrix (K-NN) \\n');\n",
        "fx.set_xlabel('\\n Nilai Prediksi \\n')\n",
        "fx.set_ylabel('Nilai Aktual \\n');\n",
        "fx.xaxis.set_ticklabels(['Setosa','Versicolour','Virginica'])\n",
        "fx.yaxis.set_ticklabels(['Setosa','Versicolour','Virginica'])\n",
        "plt.show()"
      ],
      "metadata": {
        "colab": {
          "base_uri": "https://localhost:8080/",
          "height": 386
        },
        "id": "gXzdtHmfJoqX",
        "outputId": "9377d193-e1a4-43e9-de7e-8eb197a04e30"
      },
      "execution_count": 124,
      "outputs": [
        {
          "output_type": "display_data",
          "data": {
            "text/plain": [
              "<Figure size 400x300 with 2 Axes>"
            ],
            "image/png": "[encoded data removed]"
          },
          "metadata": {}
        }
      ]
    },
    {
      "cell_type": "markdown",
      "source": [
        "###### **c) Accuracy Score**"
      ],
      "metadata": {
        "id": "66LOItEHKhjC"
      }
    },
    {
      "cell_type": "code",
      "source": [
        "score = metrics.accuracy_score(y_test, y_predKNN)\n",
        "print(\"Akurasi KNN =\", score)"
      ],
      "metadata": {
        "colab": {
          "base_uri": "https://localhost:8080/"
        },
        "id": "byjA0vUwKrX5",
        "outputId": "43fc6827-c121-44be-8014-3ec1eceb7aa8"
      },
      "execution_count": 87,
      "outputs": [
        {
          "output_type": "stream",
          "name": "stdout",
          "text": [
            "Akurasi KNN = 0.9777777777777777\n"
          ]
        }
      ]
    },
    {
      "cell_type": "markdown",
      "source": [
        "#### **5. Evaluasi atau Pengujian**<br/>\n",
        "Dari hasil pembuatan model menggunakan beberapa metode diatas, berikut ini saya kombinasikan semua hasil pengujian ke dalam satu dataframe sebagai berikut:"
      ],
      "metadata": {
        "id": "_3_i__Qd5c76"
      }
    },
    {
      "cell_type": "code",
      "source": [
        "from sklearn.metrics import accuracy_score\n",
        "\n",
        "index= ['Logistic Regression', 'SVM', 'Decision Tree', 'Naive Bayes', 'KNN']\n",
        "cols = ['Akurasi']\n",
        "\n",
        "df = pd.DataFrame(np.array([\n",
        "    round(accuracy_score(y_test, y_predRegresi)*100,2), \n",
        "    round(accuracy_score(y_test, y_predSVM)*100,2), \n",
        "    round(accuracy_score(y_test, y_predDT)*100,2), \n",
        "    round(accuracy_score(y_test, y_predNB)*100,2), \n",
        "    round(accuracy_score(y_test, y_predKNN)*100,2)]), index=index, columns=cols)\n",
        "\n",
        "df"
      ],
      "metadata": {
        "colab": {
          "base_uri": "https://localhost:8080/",
          "height": 197
        },
        "id": "VGi_9iAv8KI3",
        "outputId": "b8d7c570-82d1-48fc-8136-4a553cb022af"
      },
      "execution_count": 85,
      "outputs": [
        {
          "output_type": "execute_result",
          "data": {
            "text/plain": [
              "                     Akurasi\n",
              "Logistic Regression    97.78\n",
              "SVM                    88.89\n",
              "Decision Tree          91.11\n",
              "Naive Bayes            31.11\n",
              "KNN                    97.78"
            ],
            "text/html": [
              "\n",
              "  <div id=\"df-fed0e536-0ec8-459f-96d5-9f3185f70e51\">\n",
              "    <div class=\"colab-df-container\">\n",
              "      <div>\n",
              "<style scoped>\n",
              "    .dataframe tbody tr th:only-of-type {\n",
              "        vertical-align: middle;\n",
              "    }\n",
              "\n",
              "    .dataframe tbody tr th {\n",
              "        vertical-align: top;\n",
              "    }\n",
              "\n",
              "    .dataframe thead th {\n",
              "        text-align: right;\n",
              "    }\n",
              "</style>\n",
              "<table border=\"1\" class=\"dataframe\">\n",
              "  <thead>\n",
              "    <tr style=\"text-align: right;\">\n",
              "      <th></th>\n",
              "      <th>Akurasi</th>\n",
              "    </tr>\n",
              "  </thead>\n",
              "  <tbody>\n",
              "    <tr>\n",
              "      <th>Logistic Regression</th>\n",
              "      <td>97.78</td>\n",
              "    </tr>\n",
              "    <tr>\n",
              "      <th>SVM</th>\n",
              "      <td>88.89</td>\n",
              "    </tr>\n",
              "    <tr>\n",
              "      <th>Decision Tree</th>\n",
              "      <td>91.11</td>\n",
              "    </tr>\n",
              "    <tr>\n",
              "      <th>Naive Bayes</th>\n",
              "      <td>31.11</td>\n",
              "    </tr>\n",
              "    <tr>\n",
              "      <th>KNN</th>\n",
              "      <td>97.78</td>\n",
              "    </tr>\n",
              "  </tbody>\n",
              "</table>\n",
              "</div>\n",
              "      <button class=\"colab-df-convert\" onclick=\"convertToInteractive('df-fed0e536-0ec8-459f-96d5-9f3185f70e51')\"\n",
              "              title=\"Convert this dataframe to an interactive table.\"\n",
              "              style=\"display:none;\">\n",
              "        \n",
              "  <svg xmlns=\"http://www.w3.org/2000/svg\" height=\"24px\"viewBox=\"0 0 24 24\"\n",
              "       width=\"24px\">\n",
              "    <path d=\"M0 0h24v24H0V0z\" fill=\"none\"/>\n",
              "    <path d=\"M18.56 5.44l.94 2.06.94-2.06 2.06-.94-2.06-.94-.94-2.06-.94 2.06-2.06.94zm-11 1L8.5 8.5l.94-2.06 2.06-.94-2.06-.94L8.5 2.5l-.94 2.06-2.06.94zm10 10l.94 2.06.94-2.06 2.06-.94-2.06-.94-.94-2.06-.94 2.06-2.06.94z\"/><path d=\"M17.41 7.96l-1.37-1.37c-.4-.4-.92-.59-1.43-.59-.52 0-1.04.2-1.43.59L10.3 9.45l-7.72 7.72c-.78.78-.78 2.05 0 2.83L4 21.41c.39.39.9.59 1.41.59.51 0 1.02-.2 1.41-.59l7.78-7.78 2.81-2.81c.8-.78.8-2.07 0-2.86zM5.41 20L4 18.59l7.72-7.72 1.47 1.35L5.41 20z\"/>\n",
              "  </svg>\n",
              "      </button>\n",
              "      \n",
              "  <style>\n",
              "    .colab-df-container {\n",
              "      display:flex;\n",
              "      flex-wrap:wrap;\n",
              "      gap: 12px;\n",
              "    }\n",
              "\n",
              "    .colab-df-convert {\n",
              "      background-color: #E8F0FE;\n",
              "      border: none;\n",
              "      border-radius: 50%;\n",
              "      cursor: pointer;\n",
              "      display: none;\n",
              "      fill: #1967D2;\n",
              "      height: 32px;\n",
              "      padding: 0 0 0 0;\n",
              "      width: 32px;\n",
              "    }\n",
              "\n",
              "    .colab-df-convert:hover {\n",
              "      background-color: #E2EBFA;\n",
              "      box-shadow: 0px 1px 2px rgba(60, 64, 67, 0.3), 0px 1px 3px 1px rgba(60, 64, 67, 0.15);\n",
              "      fill: #174EA6;\n",
              "    }\n",
              "\n",
              "    [theme=dark] .colab-df-convert {\n",
              "      background-color: #3B4455;\n",
              "      fill: #D2E3FC;\n",
              "    }\n",
              "\n",
              "    [theme=dark] .colab-df-convert:hover {\n",
              "      background-color: #434B5C;\n",
              "      box-shadow: 0px 1px 3px 1px rgba(0, 0, 0, 0.15);\n",
              "      filter: drop-shadow(0px 1px 2px rgba(0, 0, 0, 0.3));\n",
              "      fill: #FFFFFF;\n",
              "    }\n",
              "  </style>\n",
              "\n",
              "      <script>\n",
              "        const buttonEl =\n",
              "          document.querySelector('#df-fed0e536-0ec8-459f-96d5-9f3185f70e51 button.colab-df-convert');\n",
              "        buttonEl.style.display =\n",
              "          google.colab.kernel.accessAllowed ? 'block' : 'none';\n",
              "\n",
              "        async function convertToInteractive(key) {\n",
              "          const element = document.querySelector('#df-fed0e536-0ec8-459f-96d5-9f3185f70e51');\n",
              "          const dataTable =\n",
              "            await google.colab.kernel.invokeFunction('convertToInteractive',\n",
              "                                                     [key], {});\n",
              "          if (!dataTable) return;\n",
              "\n",
              "          const docLinkHtml = 'Like what you see? Visit the ' +\n",
              "            '<a target=\"_blank\" href=https://colab.research.google.com/notebooks/data_table.ipynb>data table notebook</a>'\n",
              "            + ' to learn more about interactive tables.';\n",
              "          element.innerHTML = '';\n",
              "          dataTable['output_type'] = 'display_data';\n",
              "          await google.colab.output.renderOutput(dataTable, element);\n",
              "          const docLink = document.createElement('div');\n",
              "          docLink.innerHTML = docLinkHtml;\n",
              "          element.appendChild(docLink);\n",
              "        }\n",
              "      </script>\n",
              "    </div>\n",
              "  </div>\n",
              "  "
            ],
            "application/vnd.google.colaboratory.module+javascript": "\n      import \"https://ssl.gstatic.com/colaboratory/data_table/99dac6621f6ae8c4/data_table.js\";\n\n      window.createDataTable({\n        data: [[\"Logistic Regression\",\n{\n            'v': 97.78,\n            'f': \"97.78\",\n        }],\n [\"SVM\",\n{\n            'v': 88.89,\n            'f': \"88.89\",\n        }],\n [\"Decision Tree\",\n{\n            'v': 91.11,\n            'f': \"91.11\",\n        }],\n [\"Naive Bayes\",\n{\n            'v': 31.11,\n            'f': \"31.11\",\n        }],\n [\"KNN\",\n{\n            'v': 97.78,\n            'f': \"97.78\",\n        }]],\n        columns: [[\"string\", \"index\"], [\"number\", \"Akurasi\"]],\n        columnOptions: [{\"width\": \"1px\", \"className\": \"index_column\"}],\n        rowsPerPage: 25,\n        helpUrl: \"https://colab.research.google.com/notebooks/data_table.ipynb\",\n        suppressOutputScrolling: true,\n        minimumWidth: undefined,\n      });\n    "
          },
          "metadata": {},
          "execution_count": 85
        }
      ]
    },
    {
      "cell_type": "markdown",
      "source": [
        "Seperti yang dilihat dari perbandingan hasil akurasi yang ditemukan, beberapa metode (hampir semua) menunjukkan tren akurasi yang positif (mendekati 100%). Dengan kata lain, bisa dikatakan bahwa hasil dari pengujian metode klasifikasi ini adalah cukup akurat."
      ],
      "metadata": {
        "id": "hJZVGW4PLQSC"
      }
    },
    {
      "cell_type": "markdown",
      "source": [
        "### **C. Penutup**<br/>\n",
        "Demikian laporan hasil pengujian **hand-on** yang diberikan.\n",
        "\n",
        "<br/>\n",
        "\n",
        "Salam Hormat,<br/>\n",
        "**Novianto Rahmadi (22.55.2293)**"
      ],
      "metadata": {
        "id": "_PP-vFNm5kYe"
      }
    }
  ]
}