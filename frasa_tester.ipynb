{
  "nbformat": 4,
  "nbformat_minor": 0,
  "metadata": {
    "colab": {
      "provenance": [],
      "authorship_tag": "ABX9TyP+mILcdDRF+gXIjqIjTou+",
      "include_colab_link": true
    },
    "kernelspec": {
      "name": "python3",
      "display_name": "Python 3"
    },
    "language_info": {
      "name": "python"
    }
  },
  "cells": [
    {
      "cell_type": "markdown",
      "metadata": {
        "id": "view-in-github",
        "colab_type": "text"
      },
      "source": [
        "<a href=\"https://colab.research.google.com/github/novay/amikom/blob/main/frasa_tester.ipynb\" target=\"_parent\"><img src=\"https://colab.research.google.com/assets/colab-badge.svg\" alt=\"Open In Colab\"/></a>"
      ]
    },
    {
      "cell_type": "code",
      "execution_count": null,
      "metadata": {
        "colab": {
          "base_uri": "https://localhost:8080/"
        },
        "id": "RbtOY-7LVrZ9",
        "outputId": "87b3ff47-8c89-4995-9a4b-54611aae542d"
      },
      "outputs": [
        {
          "output_type": "stream",
          "name": "stdout",
          "text": [
            "Looking in indexes: https://pypi.org/simple, https://us-python.pkg.dev/colab-wheels/public/simple/\n",
            "Collecting frasa\n",
            "  Downloading frasa-0.1.53-py3-none-any.whl (14.2 MB)\n",
            "\u001b[2K     \u001b[90m━━━━━━━━━━━━━━━━━━━━━━━━━━━━━━━━━━━━━━━━\u001b[0m \u001b[32m14.2/14.2 MB\u001b[0m \u001b[31m31.0 MB/s\u001b[0m eta \u001b[36m0:00:00\u001b[0m\n",
            "\u001b[?25hInstalling collected packages: frasa\n",
            "Successfully installed frasa-0.1.53\n"
          ]
        }
      ],
      "source": [
        "%pip install frasa"
      ]
    },
    {
      "cell_type": "markdown",
      "source": [
        "### **Tokenisasi**"
      ],
      "metadata": {
        "id": "gOr7mUSUnJD1"
      }
    },
    {
      "cell_type": "code",
      "source": [
        "from frasa.preprocess import token\n",
        " \n",
        "print(token.tokenize('Harga sayur-sayuran naik sejak beberapa hari terakhir.'))"
      ],
      "metadata": {
        "id": "MXXkdQ_uVubH",
        "colab": {
          "base_uri": "https://localhost:8080/"
        },
        "outputId": "2f99bed7-11cf-4875-93d6-7edad76c5a0e"
      },
      "execution_count": null,
      "outputs": [
        {
          "output_type": "stream",
          "name": "stdout",
          "text": [
            "['Harga', 'sayur-sayuran', 'naik', 'sejak', 'beberapa', 'hari', 'terakhir', '.']\n"
          ]
        }
      ]
    },
    {
      "cell_type": "code",
      "source": [
        "print(token.tokenize('Menurutku, harga sayur-sayuran naik sejak beberapa hari terakhir.'))"
      ],
      "metadata": {
        "colab": {
          "base_uri": "https://localhost:8080/"
        },
        "id": "AXe8rF7GnDi7",
        "outputId": "ced2a2d1-8281-4dcd-c131-630c91b597f6"
      },
      "execution_count": null,
      "outputs": [
        {
          "output_type": "stream",
          "name": "stdout",
          "text": [
            "['Menurut', 'ku', ',', 'harga', 'sayur-sayuran', 'naik', 'sejak', 'beberapa', 'hari', 'terakhir', '.']\n"
          ]
        }
      ]
    },
    {
      "cell_type": "markdown",
      "source": [
        "### **Lemmatisasi**"
      ],
      "metadata": {
        "id": "0t7OM8njnLmC"
      }
    },
    {
      "cell_type": "code",
      "source": [
        "from frasa.preprocess import lemma\n",
        " \n",
        "kalimat = 'Dia telah menyelesaikan pekerjaannya dengan sangat-sangat baik.'\n",
        "lemma.lemmatize(kalimat)"
      ],
      "metadata": {
        "colab": {
          "base_uri": "https://localhost:8080/",
          "height": 35
        },
        "id": "TDtWJcqcnNXY",
        "outputId": "395b0ccd-3466-491a-e5f0-69472205e3d5"
      },
      "execution_count": null,
      "outputs": [
        {
          "output_type": "execute_result",
          "data": {
            "text/plain": [
              "'dia telah selesai kerja dengan sangat baik'"
            ],
            "application/vnd.google.colaboratory.intrinsic+json": {
              "type": "string"
            }
          },
          "metadata": {},
          "execution_count": 6
        }
      ]
    },
    {
      "cell_type": "markdown",
      "source": [
        "### **Stopword**"
      ],
      "metadata": {
        "id": "TH1YzZIHpAFH"
      }
    },
    {
      "cell_type": "code",
      "source": [
        "from frasa.preprocess import stopword\n",
        "\n",
        "kalimat = \"Romeo dan Juliet pergi Ke taman bermain di area Wonderland untuk berkencan.\"\n",
        "stopword.remove(kalimat)"
      ],
      "metadata": {
        "colab": {
          "base_uri": "https://localhost:8080/",
          "height": 35
        },
        "id": "iWIwQCe4nO3H",
        "outputId": "060feeac-f030-476f-e6f8-feab77efe4bc"
      },
      "execution_count": null,
      "outputs": [
        {
          "output_type": "execute_result",
          "data": {
            "text/plain": [
              "'Romeo Juliet pergi taman bermain area Wonderland berkencan.'"
            ],
            "application/vnd.google.colaboratory.intrinsic+json": {
              "type": "string"
            }
          },
          "metadata": {},
          "execution_count": 7
        }
      ]
    },
    {
      "cell_type": "code",
      "source": [
        "paragraf = \"Romeo pergi Ke taman bermain di area Wonderland itu. Sedangkan Juliet ke taman bermain Di area Disneyland. Dan mereka tidak bertemu tapi sambil begini-begitu.\"\n",
        "stopword.remove(paragraf)"
      ],
      "metadata": {
        "colab": {
          "base_uri": "https://localhost:8080/",
          "height": 35
        },
        "id": "NlUztdbbnWk7",
        "outputId": "714e8551-c496-4374-9f1f-282e9006aeab"
      },
      "execution_count": null,
      "outputs": [
        {
          "output_type": "execute_result",
          "data": {
            "text/plain": [
              "'Romeo pergi taman bermain area Wonderland. Juliet taman bermain area Disneyland. bertemu.'"
            ],
            "application/vnd.google.colaboratory.intrinsic+json": {
              "type": "string"
            }
          },
          "metadata": {},
          "execution_count": 8
        }
      ]
    },
    {
      "cell_type": "code",
      "source": [
        "# print(stopword.get())"
      ],
      "metadata": {
        "id": "r0dT3lPSnbhi"
      },
      "execution_count": 39,
      "outputs": []
    },
    {
      "cell_type": "markdown",
      "source": [
        "### **Sentimen**"
      ],
      "metadata": {
        "id": "gduzI--qnhdh"
      }
    },
    {
      "cell_type": "code",
      "source": [
        "from frasa.preprocess import sentimen\n",
        "\n",
        "print('== Indonesia ==')\n",
        "print(sentimen.indo('saya sangat bahagia hari ini'))\n",
        "print(sentimen.indo('saya sangat sedih hari ini'))\n",
        "\n",
        "print('== Jawa ==')\n",
        "print(sentimen.jawa('Aku seneng banget dina iki'))\n",
        "print(sentimen.jawa('Aku sedhih banget dina iki'))\n",
        "\n",
        "print('== Sunda ==')\n",
        "print(sentimen.sunda('Abdi bagja pisan dinten ieu'))\n",
        "print(sentimen.sunda('Abdi sedih pisan dinten ieu'))"
      ],
      "metadata": {
        "colab": {
          "base_uri": "https://localhost:8080/"
        },
        "id": "NQGAFPDXngdA",
        "outputId": "70526893-e23a-435a-86bf-50409ac1073a"
      },
      "execution_count": 38,
      "outputs": [
        {
          "output_type": "stream",
          "name": "stdout",
          "text": [
            "== Indonesia ==\n",
            "positive\n",
            "negative\n",
            "== Jawa ==\n",
            "positive\n",
            "negative\n",
            "== Sunda ==\n",
            "positive\n",
            "negative\n"
          ]
        }
      ]
    },
    {
      "cell_type": "markdown",
      "source": [
        "### **News Crawler**"
      ],
      "metadata": {
        "id": "4KO03140ns6q"
      }
    },
    {
      "cell_type": "code",
      "source": [
        "from frasa.scrap import detiknews\n",
        "\n",
        "print(detiknews.indeks())"
      ],
      "metadata": {
        "colab": {
          "base_uri": "https://localhost:8080/"
        },
        "id": "FhQH-IHYnuIs",
        "outputId": "93cc96b3-9aa9-4b5a-ab86-6bef5c9564f8"
      },
      "execution_count": null,
      "outputs": [
        {
          "output_type": "stream",
          "name": "stdout",
          "text": [
            "[{'title': 'Ruang Gudang Mal Ekalokasari Bogor Terbakar, Pengunjung Berhamburan ke Luar', 'link': 'https://news.detik.com/berita/d-6755123/ruang-gudang-mal-ekalokasari-bogor-terbakar-pengunjung-berhamburan-ke-luar', 'image': 'https://awsimages.detik.net.id/community/media/visual/2023/06/04/kebakaran-mal-ekalokasari_43.jpeg?w=210&q=90'}, {'title': 'Prabowo Beri Menhan Qatar Cinderamata Senapan Serbu Buatan Pindad', 'link': 'https://news.detik.com/berita/d-6755109/prabowo-beri-menhan-qatar-cinderamata-senapan-serbu-buatan-pindad', 'image': 'https://awsimages.detik.net.id/community/media/visual/2023/06/04/prabowo-bertemu-menhan-qatar-1_43.jpeg?w=210&q=90'}, {'title': 'Gempa Magnitudo 5,1 Terjadi di Bitung Sulut', 'link': 'https://news.detik.com/berita/d-6755103/gempa-magnitudo-51-terjadi-di-bitung-sulut', 'image': 'https://awsimages.detik.net.id/community/media/visual/2023/02/10/ilustrasi-gempa-bumi-di-indonesia_43.jpeg?w=210&q=90'}, {'title': 'Gempa M 5,1 Guncang Bitung Sulawesi Utara', 'link': 'https://20.detik.com/detikupdate/20230604-230604100/gempa-m-51-guncang-bitung-sulawesi-utara', 'image': 'https://awsimages.detik.net.id/community/media/visual/2023/02/10/ilustrasi-gempa-bumi-di-indonesia_43.jpeg?w=210&q=90'}, {'title': 'Pertandingan Sepakbola Tarkam di Lebak Ricuh, Adu Pukul Pemain vs Penonton', 'link': 'https://news.detik.com/berita/d-6755095/pertandingan-sepakbola-tarkam-di-lebak-ricuh-adu-pukul-pemain-vs-penonton', 'image': 'https://awsimages.detik.net.id/community/media/visual/2023/06/04/pertandingan-sepakbola-tarkam-di-lebak-ricuh_43.jpeg?w=210&q=90'}, {'title': 'Survei Cawapres Indikator: Erick Thohir Teratas, Disusul RK-Mahfud', 'link': 'https://20.detik.com/detikupdate/20230604-230604099/survei-cawapres-indikator-erick-thohir-teratas-disusul-rk-mahfud-md', 'image': 'https://awsimages.detik.net.id/community/media/visual/2023/05/29/ketua-pssi-umumkan-harga-tiket-argentina-vs-indonesia-3_43.jpeg?w=210&q=90'}, {'title': 'Ridwan Kamil Siap Menangkan Golkar di DKI, Jabar dan Banten', 'link': 'https://20.detik.com/detikupdate/20230604-230604096/ridwan-kamil-siap-menangkan-golkar-di-dki-jabar-dan-banten', 'image': 'https://awsimages.detik.net.id/community/media/visual/2023/06/04/rakernas-golkar-airlangga-minta-ridwan-kamil-menangkan-jabar-banten-dan-dki-5_43.jpeg?w=210&q=90'}, {'title': 'Sahroni: Formula E 2023 Terselenggara Sukses Berkat Dukungan Berbagai Pihak', 'link': 'https://news.detik.com/berita/d-6755062/sahroni-formula-e-2023-terselenggara-sukses-berkat-dukungan-berbagai-pihak', 'image': 'https://awsimages.detik.net.id/community/media/visual/2022/06/01/ludes-tiket-formula-e-habis-terjual-1_43.jpeg?w=210&q=90'}, {'title': 'Yandri Susanto Dorong Cilegon Jadi Kota Percontohan Pengelolaan Wakaf', 'link': 'https://news.detik.com/berita/d-6755060/yandri-susanto-dorong-cilegon-jadi-kota-percontohan-pengelolaan-wakaf', 'image': 'https://awsimages.detik.net.id/community/media/visual/2023/06/04/yandri-susanto_43.jpeg?w=210&q=90'}, {'title': 'Helikopter TNI AD Jatuh di Ciwidey gegara Kabut dan Hujan Rintik', 'link': 'https://news.detik.com/berita/d-6755051/helikopter-tni-ad-jatuh-di-ciwidey-gegara-kabut-dan-hujan-rintik', 'image': 'https://awsimages.detik.net.id/community/media/visual/2023/06/04/helikopter-latih-tni-yang-jatuh-di-kebun-teh-ciwidey-kabupaten-bandung_43.jpeg?w=210&q=90'}, {'title': 'Kereta Kecelakaan Maut di India Mulai Dievakuasi', 'link': 'https://news.detik.com/foto-news/d-6754427/kereta-kecelakaan-maut-di-india-mulai-dievakuasi', 'image': 'https://awsimages.detik.net.id/community/media/visual/2023/06/04/kereta-kecelakaan-maut-di-india-mulai-dievakuasi_43.jpeg?w=210&q=90'}, {'title': 'Penyebab Kecelakaan Kereta Api Maut di India Terkuak', 'link': 'https://20.detik.com/detikupdate/20230604-230604097/penyebab-kecelakaan-kereta-api-maut-di-india-terkuak', 'image': 'https://awsimages.detik.net.id/community/media/visual/2023/06/04/kereta-kecelakaan-maut-di-india-mulai-dievakuasi-3_43.jpeg?w=210&q=90'}, {'title': 'Peta Terkini Kekuatan Capres-cawapres 2024 Jelang Pilpres', 'link': 'https://news.detik.com/pemilu/d-6755039/peta-terkini-kekuatan-capres-cawapres-2024-jelang-pilpres', 'image': 'https://awsimages.detik.net.id/community/media/visual/2023/05/08/ilustrasi-prabowo-ganjar-dan-anies_43.jpeg?w=210&q=90'}, {'title': 'Sapa Milenial & Gen Z di Jakarta, Ganjar Bicara soal Proses Kreatif', 'link': 'https://news.detik.com/berita/d-6755029/sapa-milenial--gen-z-di-jakarta-ganjar-bicara-soal-proses-kreatif', 'image': 'https://awsimages.detik.net.id/community/media/visual/2023/06/04/ganjar-pranowo-8_43.jpeg?w=210&q=90'}, {'title': 'Gempa M 4,6 Terjadi di Pangandaran', 'link': 'https://news.detik.com/berita/d-6755027/gempa-m-46-terjadi-di-pangandaran', 'image': 'https://awsimages.detik.net.id/community/media/visual/2023/02/09/ilustrasi-gempa_43.jpeg?w=210&q=90'}, {'title': 'PPP-PAN Mendekat ke PDIP, Airlangga Sebut KIB Jalan Terus', 'link': 'https://20.detik.com/detikupdate/20230604-230604092/ppp-pan-mendekat-ke-pdip-airlangga-sebut-kib-jalan-terus', 'image': 'https://awsimages.detik.net.id/community/media/visual/2023/06/04/rakernas-golkar-airlangga-minta-ridwan-kamil-menangkan-jabar-banten-dan-dki-1_43.jpeg?w=210&q=90'}, {'title': 'Saat Ganjar Bilang Jakarta Memang Berbeda karena Sambutan Meriah', 'link': 'https://news.detik.com/pemilu/d-6754985/saat-ganjar-bilang-jakarta-memang-berbeda-karena-sambutan-meriah', 'image': 'https://awsimages.detik.net.id/community/media/visual/2023/06/04/bacapres-pdip-ganjar-pranowo-wildan-noviansahdetikcom_43.jpeg?w=210&q=90'}, {'title': 'Andre Rosiade: Alhamdulillah Prabowo Unggul 11% Lawan Ganjar, 30% Vs Anies', 'link': 'https://news.detik.com/pemilu/d-6754983/andre-rosiade-alhamdulillah-prabowo-unggul-11-lawan-ganjar-30-vs-anies', 'image': 'https://awsimages.detik.net.id/community/media/visual/2023/02/09/andre-rosiade_43.jpeg?w=210&q=90'}, {'title': 'Dampak Topan Mawar di Jepang', 'link': 'https://news.detik.com/foto-news/d-6754312/dampak-topan-mawar-di-jepang', 'image': 'https://awsimages.detik.net.id/community/media/visual/2023/06/04/dampak-topan-mawar-di-jepang-2_43.jpeg?w=210&q=90'}, {'title': 'Ditanya soal Maju Pilkada Depok, Kaesang: Sleman Juga Boleh', 'link': 'https://news.detik.com/pemilu/d-6754964/ditanya-soal-maju-pilkada-depok-kaesang-sleman-juga-boleh', 'image': 'https://awsimages.detik.net.id/community/media/visual/2023/06/04/kaesang-pangarep-dan-istri-erina-gudono-di-mal-solo_43.jpeg?w=210&q=90'}]\n"
          ]
        }
      ]
    },
    {
      "cell_type": "markdown",
      "source": [
        "### **Deteksi Gender**"
      ],
      "metadata": {
        "id": "6YkMMsu4oPXi"
      }
    },
    {
      "cell_type": "code",
      "source": [
        "import json\n",
        "from frasa.deteksi import gender\n",
        "\n",
        "print(json.dumps(gender.info('Ahmad', only=['nama', 'gender', 'prob']), indent=4))"
      ],
      "metadata": {
        "colab": {
          "base_uri": "https://localhost:8080/"
        },
        "id": "1XwFBfiHnxVa",
        "outputId": "e4cfe8c1-1341-4c88-8c0a-2394e854b577"
      },
      "execution_count": null,
      "outputs": [
        {
          "output_type": "stream",
          "name": "stdout",
          "text": [
            "{\n",
            "    \"nama\": \"Ahmad\",\n",
            "    \"gender\": \"Laki-Laki\",\n",
            "    \"prob\": {\n",
            "        \"L\": 99.97,\n",
            "        \"P\": 0.03\n",
            "    }\n",
            "}\n"
          ]
        }
      ]
    },
    {
      "cell_type": "code",
      "source": [
        "from frasa import sensor\n",
        "\n",
        "text = \"Dasar Anj!ng kau. @su, B4ngsat, br3ngsek\"\n",
        "censored_text = sensor.beep(text)\n",
        " \n",
        "print(censored_text)"
      ],
      "metadata": {
        "colab": {
          "base_uri": "https://localhost:8080/"
        },
        "id": "eVoQLtsMoKlc",
        "outputId": "89082987-5be5-45ae-9b69-a6a240a7ea43"
      },
      "execution_count": null,
      "outputs": [
        {
          "output_type": "stream",
          "name": "stdout",
          "text": [
            "Dasar **** kau. ****, ****, ****\n"
          ]
        }
      ]
    },
    {
      "cell_type": "markdown",
      "source": [
        "### **Cek Similarity**"
      ],
      "metadata": {
        "id": "wwXuEbPkoj4G"
      }
    },
    {
      "cell_type": "code",
      "source": [
        "from frasa.deteksi import plagiat\n",
        "# import nltk\n",
        "# nltk.download('stopwords')\n",
        "# nltk.download('punkt')\n",
        "\n",
        "string_1 = \"Aku sedang belajar kecerdasan buatan\"\n",
        "string_2 = \"Mahasiswa yang cerdas selalu siap menerima tantangan\"\n",
        " \n",
        "print(\"Rabin Karp: \" + str(plagiat.rabin_karp(string_1, string_2)))\n",
        "# print(plagiat.cosine(string_1, string_2))\n",
        "# print(plagiat.jaccard(string_1, string_2))"
      ],
      "metadata": {
        "colab": {
          "base_uri": "https://localhost:8080/"
        },
        "id": "v2Mm1LcfoVnC",
        "outputId": "5ac3f7a2-2d35-44ee-d239-b9185be785dc"
      },
      "execution_count": null,
      "outputs": [
        {
          "output_type": "stream",
          "name": "stdout",
          "text": [
            "Rabin Karp: 0.8163265306122449\n"
          ]
        }
      ]
    }
  ]
}