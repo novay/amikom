{
  "nbformat": 4,
  "nbformat_minor": 0,
  "metadata": {
    "colab": {
      "provenance": [],
      "authorship_tag": "ABX9TyPnHDXUn00kqsXvJmpDqepb",
      "include_colab_link": true
    },
    "kernelspec": {
      "name": "python3",
      "display_name": "Python 3"
    },
    "language_info": {
      "name": "python"
    }
  },
  "cells": [
    {
      "cell_type": "markdown",
      "metadata": {
        "id": "view-in-github",
        "colab_type": "text"
      },
      "source": [
        "<a href=\"https://colab.research.google.com/github/novay/amikom/blob/main/ds_rk2_kasus_3.ipynb\" target=\"_parent\"><img src=\"https://colab.research.google.com/assets/colab-badge.svg\" alt=\"Open In Colab\"/></a>"
      ]
    },
    {
      "cell_type": "code",
      "execution_count": 8,
      "metadata": {
        "id": "3VZIlKVdS52R"
      },
      "outputs": [],
      "source": [
        "import numpy as np \n",
        "import matplotlib.pyplot as plt"
      ]
    },
    {
      "cell_type": "code",
      "source": [
        "y = np.array([\n",
        "    500, \n",
        "    600, \n",
        "    250, \n",
        "    300, \n",
        "    450, \n",
        "    475, \n",
        "    700, \n",
        "    350, \n",
        "    295, \n",
        "    567\n",
        "])\n",
        "ŷ = np.array([\n",
        "    525, \n",
        "    623, \n",
        "    230, \n",
        "    290, \n",
        "    450, \n",
        "    470, \n",
        "    720, \n",
        "    300, \n",
        "    395, \n",
        "    525\n",
        "])\n",
        "x = list(range(len(y)))\n",
        "\n",
        "plt.scatter(x, y, color=\"blue\", label=\"Aktual\")\n",
        "plt.plot(x, ŷ, color=\"orange\", label=\"Prediksi\")\n",
        "plt.legend()\n",
        "plt.show() "
      ],
      "metadata": {
        "colab": {
          "base_uri": "https://localhost:8080/",
          "height": 265
        },
        "id": "jzyNiRpxS7xH",
        "outputId": "43dd28b0-e874-4f17-fe55-cb4860e0772e"
      },
      "execution_count": 16,
      "outputs": [
        {
          "output_type": "display_data",
          "data": {
            "text/plain": [
              "<Figure size 432x288 with 1 Axes>"
            ],
            "image/png": "[encoded data removed]"
          },
          "metadata": {
            "needs_background": "light"
          }
        }
      ]
    },
    {
      "cell_type": "code",
      "source": [
        "# Metrics calculation by formula \n",
        "\n",
        "d = y - ŷ\n",
        "\n",
        "mse = np.mean(d**2) # MSE = (1/n) * Σ(yi - ŷi)^2\n",
        "rmse = np.sqrt(mse) # RMSE = √((1/n) * Σ(yi - ŷi)^2)\n",
        "mae = np.mean(abs(d)) # MAE = (1/n) * Σ|yi - ŷi|\n",
        "\n",
        "def mape(y, ŷ): # MAPE = (1/n) * Σ(|(yi - ŷi) / yi|) * 100%\n",
        "    y, ŷ = np.array(y), np.array(ŷ)\n",
        "    mape = np.mean(np.abs((y - ŷ) / y))\n",
        "    return mape\n",
        "\n",
        "print(\"Hasil Kalkulasi:\")\n",
        "print(\"MSE:\", mse)\n",
        "print(\"RMSE:\", rmse)\n",
        "print(\"MAE:\",mae)\n",
        "\n",
        "print(\"MAPE:\", mape(y, ŷ))"
      ],
      "metadata": {
        "colab": {
          "base_uri": "https://localhost:8080/"
        },
        "id": "V--P0h4yTBj1",
        "outputId": "b9ffeb55-ff3c-453c-b7fa-5414ba63251f"
      },
      "execution_count": 18,
      "outputs": [
        {
          "output_type": "stream",
          "name": "stdout",
          "text": [
            "Hasil Kalkulasi:\n",
            "MSE: 1634.3\n",
            "RMSE: 40.42647647272762\n",
            "MAE: 29.5\n",
            "MAPE: 0.07966786788062434\n"
          ]
        }
      ]
    },
    {
      "cell_type": "code",
      "source": [],
      "metadata": {
        "id": "WIgJtmGCTK0T"
      },
      "execution_count": null,
      "outputs": []
    }
  ]
}