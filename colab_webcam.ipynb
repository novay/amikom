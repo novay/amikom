{
  "nbformat": 4,
  "nbformat_minor": 0,
  "metadata": {
    "colab": {
      "provenance": [],
      "include_colab_link": true
    },
    "kernelspec": {
      "name": "python3",
      "display_name": "Python 3"
    },
    "accelerator": "GPU"
  },
  "cells": [
    {
      "cell_type": "markdown",
      "metadata": {
        "id": "view-in-github",
        "colab_type": "text"
      },
      "source": [
        "<a href=\"https://colab.research.google.com/github/novay/amikom/blob/main/colab_webcam.ipynb\" target=\"_parent\"><img src=\"https://colab.research.google.com/assets/colab-badge.svg\" alt=\"Open In Colab\"/></a>"
      ]
    },
    {
      "cell_type": "markdown",
      "source": [
        "## **Webcam di Google Colab**\n",
        "\n",
        "Keypoints:\n",
        "- Komputer Vision adalah cabang ilmu komputer yang berfokus pada pemahaman dan analisis visual dari gambar dan video.\n",
        "- Google Colab adalah platform yang menyediakan lingkungan pengembangan Python berbasis cloud.\n",
        "\n",
        "Meskipun Google Colab memiliki banyak fitur yang berguna, namun tidak memiliki dukungan bawaan untuk menggunakan webcam. Namun, kita dapat menggunakan HTML dan JavaScript untuk mengatasi masalah ini. Di file notebook ini, saya akan coba mengimplementasikan OpenCV's Haar Cascade menggunakan webcam di Google Colab."
      ],
      "metadata": {
        "id": "1T8tq9_lRS1x"
      }
    },
    {
      "cell_type": "markdown",
      "source": [
        "### **1. Persiapan**\n",
        "\n",
        "Sebelum memulai, kita perlu menyiapkan pustaka yang akan digunakan :"
      ],
      "metadata": {
        "id": "eh0X9j1RRxBN"
      }
    },
    {
      "cell_type": "code",
      "metadata": {
        "id": "Fj9YcAnsT4B_"
      },
      "source": [
        "from IPython.display import display, Javascript, Image\n",
        "from google.colab.output import eval_js\n",
        "from base64 import b64decode, b64encode\n",
        "import cv2\n",
        "import numpy as np\n",
        "import PIL\n",
        "import io\n",
        "import html\n",
        "import time"
      ],
      "execution_count": 25,
      "outputs": []
    },
    {
      "cell_type": "markdown",
      "source": [
        "Selanjutnya kita perlu membuat beberapa fungsi bantu yang akan digunakan dalam tutorial ini. Berikut adalah fungsi-fungsi yang perlu dibuat:"
      ],
      "metadata": {
        "id": "xFteesYfR_Ts"
      }
    },
    {
      "cell_type": "markdown",
      "source": [
        "#### **a) Baca Gambar dari JS**\n",
        "\n",
        "Fungsi ini untuk mengubah objek gambar JavaScript yang diterima dari webcam menjadi gambar dalam format yang dapat digunakan dalam pemrosesan menggunakan OpenCV di Google Colab."
      ],
      "metadata": {
        "id": "26P4Wo30SDHo"
      }
    },
    {
      "cell_type": "code",
      "metadata": {
        "id": "09b_0FAnUa9y"
      },
      "source": [
        "def js_to_image(js_reply):\n",
        "  image_bytes = b64decode(js_reply.split(',')[1])\n",
        "  jpg_as_np = np.frombuffer(image_bytes, dtype=np.uint8)\n",
        "  img = cv2.imdecode(jpg_as_np, flags=1)\n",
        "  return img"
      ],
      "execution_count": 26,
      "outputs": []
    },
    {
      "cell_type": "markdown",
      "source": [
        "#### **b) Konversi ke Base64**\n",
        "\n",
        "Fungsi untuk mengonversi array bounding box menjadi format byte yang dapat digunakan untuk menampilkan gambar dengan bounding box di Google Colab."
      ],
      "metadata": {
        "id": "jNwFPHwkSLFL"
      }
    },
    {
      "cell_type": "code",
      "source": [
        "def bbox_to_bytes(bbox_array):\n",
        "  bbox_PIL = PIL.Image.fromarray(bbox_array, 'RGBA')\n",
        "  iobuf = io.BytesIO()\n",
        "  bbox_PIL.save(iobuf, format='png')\n",
        "  bbox_bytes = 'data:image/png;base64,{}'.format((str(b64encode(iobuf.getvalue()), 'utf-8')))\n",
        "  return bbox_bytes"
      ],
      "metadata": {
        "id": "2ixgoJzHSPyF"
      },
      "execution_count": 27,
      "outputs": []
    },
    {
      "cell_type": "markdown",
      "source": [
        "### **2. Haar Cascade Classifier**\n",
        "\n",
        "Berhubung disini saya coba ingin berinteraksi dengan HaarCascade menggunakan Google Colab. Langkah ini adalah menginisialisasi model deteksi wajah menggunakan Haar Cascade. Haar Cascade ini merupakan salah satu metode yang digunakan dalam komputer vision untuk deteksi objek."
      ],
      "metadata": {
        "id": "Znnol7P8SSst"
      }
    },
    {
      "cell_type": "markdown",
      "source": [
        "#### **Cara 1: Menggunakan Session File**"
      ],
      "metadata": {
        "id": "XEsWC4YWSik2"
      }
    },
    {
      "cell_type": "code",
      "source": [
        "# face_cascade = cv2.CascadeClassifier(cv2.samples.findFile('/content/haarcascade_default.xml'))"
      ],
      "metadata": {
        "id": "Xmpat1d1SppA"
      },
      "execution_count": 28,
      "outputs": []
    },
    {
      "cell_type": "markdown",
      "source": [
        "#### **Cara 2: Menggunakan URL**"
      ],
      "metadata": {
        "id": "GVNE_AEQSrbq"
      }
    },
    {
      "cell_type": "code",
      "metadata": {
        "id": "ZpA68lTrcvZs"
      },
      "source": [
        "import urllib.request\n",
        "\n",
        "cascade_url = 'https://raw.githubusercontent.com/novay/amikom/main/vision/object-detection/Haarcascade/haarcascade_frontalface_default.xml'\n",
        "\n",
        "cascade_filename = 'haarcascade_frontalface_default.xml'\n",
        "urllib.request.urlretrieve(cascade_url, cascade_filename)\n",
        "face_cascade = cv2.CascadeClassifier(cascade_filename)"
      ],
      "execution_count": 29,
      "outputs": []
    },
    {
      "cell_type": "markdown",
      "source": [
        "### **3. Webcam**\n",
        "\n",
        "Berikut adalah fungsi-fungsi bantu yang perlu disiapkan:"
      ],
      "metadata": {
        "id": "r9H2s-H7S2Hg"
      }
    },
    {
      "cell_type": "markdown",
      "source": [
        "#### **a) Inisialisasi Webcam**\n",
        "\n",
        "Fungsi ini akan menginisialisasi pengambilan aliran video dari webcam dan menampilkannya di Google Colab."
      ],
      "metadata": {
        "id": "aqyhQznbTFRY"
      }
    },
    {
      "cell_type": "code",
      "metadata": {
        "id": "ghUlAJzKSjFT"
      },
      "source": [
        "def video_stream():\n",
        "  js = Javascript('''\n",
        "    var video;\n",
        "    var div = null;\n",
        "    var stream;\n",
        "    var captureCanvas;\n",
        "    var imgElement;\n",
        "    var labelElement;\n",
        "\n",
        "    var pendingResolve = null;\n",
        "    var shutdown = false;\n",
        "\n",
        "    function removeDom() {\n",
        "       stream.getVideoTracks()[0].stop();\n",
        "       video.remove();\n",
        "       div.remove();\n",
        "       video = null;\n",
        "       div = null;\n",
        "       stream = null;\n",
        "       imgElement = null;\n",
        "       captureCanvas = null;\n",
        "       labelElement = null;\n",
        "    }\n",
        "\n",
        "    function onAnimationFrame() {\n",
        "      if (!shutdown) {\n",
        "        window.requestAnimationFrame(onAnimationFrame);\n",
        "      }\n",
        "      if (pendingResolve) {\n",
        "        var result = \"\";\n",
        "        if (!shutdown) {\n",
        "          captureCanvas.getContext('2d').drawImage(video, 0, 0, 640, 480);\n",
        "          result = captureCanvas.toDataURL('image/jpeg', 0.8)\n",
        "        }\n",
        "        var lp = pendingResolve;\n",
        "        pendingResolve = null;\n",
        "        lp(result);\n",
        "      }\n",
        "    }\n",
        "\n",
        "    async function createDom() {\n",
        "      if (div !== null) {\n",
        "        return stream;\n",
        "      }\n",
        "\n",
        "      div = document.createElement('div');\n",
        "      div.style.border = '2px solid black';\n",
        "      div.style.padding = '3px';\n",
        "      div.style.width = '100%';\n",
        "      div.style.maxWidth = '600px';\n",
        "      document.body.appendChild(div);\n",
        "\n",
        "      const modelOut = document.createElement('div');\n",
        "      modelOut.innerHTML = \"<span>Status:</span>\";\n",
        "      labelElement = document.createElement('span');\n",
        "      labelElement.innerText = 'No data';\n",
        "      labelElement.style.fontWeight = 'bold';\n",
        "      modelOut.appendChild(labelElement);\n",
        "      div.appendChild(modelOut);\n",
        "\n",
        "      video = document.createElement('video');\n",
        "      video.style.display = 'block';\n",
        "      video.width = div.clientWidth - 6;\n",
        "      video.setAttribute('playsinline', '');\n",
        "      video.onclick = () => { shutdown = true; };\n",
        "      stream = await navigator.mediaDevices.getUserMedia(\n",
        "          {video: { facingMode: \"environment\"}});\n",
        "      div.appendChild(video);\n",
        "\n",
        "      imgElement = document.createElement('img');\n",
        "      imgElement.style.position = 'absolute';\n",
        "      imgElement.style.zIndex = 1;\n",
        "      imgElement.onclick = () => { shutdown = true; };\n",
        "      div.appendChild(imgElement);\n",
        "\n",
        "      const instruction = document.createElement('div');\n",
        "      instruction.innerHTML =\n",
        "          '<span style=\"color: red; font-weight: bold;\">' +\n",
        "          'When finished, click here or on the video to stop this demo</span>';\n",
        "      div.appendChild(instruction);\n",
        "      instruction.onclick = () => { shutdown = true; };\n",
        "\n",
        "      video.srcObject = stream;\n",
        "      await video.play();\n",
        "\n",
        "      captureCanvas = document.createElement('canvas');\n",
        "      captureCanvas.width = 640; //video.videoWidth;\n",
        "      captureCanvas.height = 480; //video.videoHeight;\n",
        "      window.requestAnimationFrame(onAnimationFrame);\n",
        "\n",
        "      return stream;\n",
        "    }\n",
        "    async function stream_frame(label, imgData) {\n",
        "      if (shutdown) {\n",
        "        removeDom();\n",
        "        shutdown = false;\n",
        "        return '';\n",
        "      }\n",
        "\n",
        "      var preCreate = Date.now();\n",
        "      stream = await createDom();\n",
        "\n",
        "      var preShow = Date.now();\n",
        "      if (label != \"\") {\n",
        "        labelElement.innerHTML = label;\n",
        "      }\n",
        "\n",
        "      if (imgData != \"\") {\n",
        "        var videoRect = video.getClientRects()[0];\n",
        "        imgElement.style.top = videoRect.top + \"px\";\n",
        "        imgElement.style.left = videoRect.left + \"px\";\n",
        "        imgElement.style.width = videoRect.width + \"px\";\n",
        "        imgElement.style.height = videoRect.height + \"px\";\n",
        "        imgElement.src = imgData;\n",
        "      }\n",
        "\n",
        "      var preCapture = Date.now();\n",
        "      var result = await new Promise(function(resolve, reject) {\n",
        "        pendingResolve = resolve;\n",
        "      });\n",
        "      shutdown = false;\n",
        "\n",
        "      return {'create': preShow - preCreate,\n",
        "              'show': preCapture - preShow,\n",
        "              'capture': Date.now() - preCapture,\n",
        "              'img': result};\n",
        "    }\n",
        "    ''')\n",
        "\n",
        "  display(js)"
      ],
      "execution_count": 30,
      "outputs": []
    },
    {
      "cell_type": "markdown",
      "source": [
        "#### **b) Frame Video**\n",
        "\n",
        "Fungsi ini akan mengubah setiap frame video menjadi gambar dengan kotak pembatas (bounding box) yang menandai objek yang dideteksi."
      ],
      "metadata": {
        "id": "bNEhRIy8TLhz"
      }
    },
    {
      "cell_type": "code",
      "source": [
        "def video_frame(label, bbox):\n",
        "  data = eval_js('stream_frame(\"{}\", \"{}\")'.format(label, bbox))\n",
        "  return data"
      ],
      "metadata": {
        "id": "zuDK5yqGTL1u"
      },
      "execution_count": 31,
      "outputs": []
    },
    {
      "cell_type": "markdown",
      "source": [
        "Cukup dengan persiapan fungsi-fungsi diatas, kita siap untuk menggunakan webcam di Google Colab. Berikut ini contoh implementasi dengan menggunakan OpenCV's Haar Cascade untuk deteksi objek seperti wajah."
      ],
      "metadata": {
        "id": "5Pr8eA0yTVYW"
      }
    },
    {
      "cell_type": "code",
      "metadata": {
        "id": "1nkSnkbkk4cC"
      },
      "source": [
        "from matplotlib import pyplot as plt\n",
        "from google.colab.patches import cv2_imshow\n",
        "\n",
        "video_stream()\n",
        "label_html = 'Capturing...'\n",
        "\n",
        "bbox = ''\n",
        "count = 0\n",
        "while True:\n",
        "    js_reply = video_frame(label_html, bbox)\n",
        "    if not js_reply:\n",
        "        break\n",
        "\n",
        "    img = js_to_image(js_reply[\"img\"])\n",
        "    bbox_array = np.zeros([480,640,4], dtype=np.uint8)\n",
        "\n",
        "    gray = cv2.cvtColor(img, cv2.COLOR_RGB2GRAY)\n",
        "    faces = face_cascade.detectMultiScale(gray)\n",
        "\n",
        "    for (x,y,w,h) in faces:\n",
        "      bbox_array = cv2.rectangle(bbox_array,(x,y),(x+w,y+h),(255,0,0),2)\n",
        "\n",
        "    bbox_array[:,:,3] = (bbox_array.max(axis = 2) > 0 ).astype(int) * 255\n",
        "    bbox_bytes = bbox_to_bytes(bbox_array)\n",
        "    bbox = bbox_bytes"
      ],
      "execution_count": null,
      "outputs": []
    }
  ]
}